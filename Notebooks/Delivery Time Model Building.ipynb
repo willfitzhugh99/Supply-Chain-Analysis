{
 "cells": [
  {
   "cell_type": "code",
   "execution_count": 12,
   "id": "b5863ec0",
   "metadata": {},
   "outputs": [],
   "source": [
    "import pandas as pd\n",
    "import numpy as np\n",
    "import seaborn as sns\n",
    "import matplotlib.pyplot as plt; plt.style.use('ggplot')\n",
    "from collections import Counter\n",
    "\n",
    "from sklearn.model_selection import train_test_split\n",
    "from sklearn.model_selection import GridSearchCV\n",
    "\n",
    "from sklearn.tree import DecisionTreeClassifier, plot_tree\n",
    "from sklearn.ensemble import RandomForestClassifier\n",
    "from sklearn.linear_model import LogisticRegression\n",
    "from sklearn.linear_model import LinearRegression\n",
    "from sklearn.linear_model import Ridge\n",
    "from sklearn.linear_model import Lasso"
   ]
  },
  {
   "cell_type": "code",
   "execution_count": 2,
   "id": "40291d39",
   "metadata": {},
   "outputs": [
    {
     "data": {
      "text/html": [
       "<div>\n",
       "<style scoped>\n",
       "    .dataframe tbody tr th:only-of-type {\n",
       "        vertical-align: middle;\n",
       "    }\n",
       "\n",
       "    .dataframe tbody tr th {\n",
       "        vertical-align: top;\n",
       "    }\n",
       "\n",
       "    .dataframe thead th {\n",
       "        text-align: right;\n",
       "    }\n",
       "</style>\n",
       "<table border=\"1\" class=\"dataframe\">\n",
       "  <thead>\n",
       "    <tr style=\"text-align: right;\">\n",
       "      <th></th>\n",
       "      <th>RealShippingDays</th>\n",
       "      <th>ScheduledShippingDays</th>\n",
       "      <th>Order Item Quantity</th>\n",
       "      <th>Product Price</th>\n",
       "      <th>OrderAfterNoon</th>\n",
       "      <th>PaymentType_CASH</th>\n",
       "      <th>PaymentType_DEBIT</th>\n",
       "      <th>PaymentType_PAYMENT</th>\n",
       "      <th>PaymentType_TRANSFER</th>\n",
       "      <th>Customer Segment_Consumer</th>\n",
       "      <th>...</th>\n",
       "      <th>ProductDepartment_Technology</th>\n",
       "      <th>Market_Africa</th>\n",
       "      <th>Market_Europe</th>\n",
       "      <th>Market_LATAM</th>\n",
       "      <th>Market_Pacific Asia</th>\n",
       "      <th>Market_USCA</th>\n",
       "      <th>Shipping Mode_First Class</th>\n",
       "      <th>Shipping Mode_Same Day</th>\n",
       "      <th>Shipping Mode_Second Class</th>\n",
       "      <th>Shipping Mode_Standard Class</th>\n",
       "    </tr>\n",
       "  </thead>\n",
       "  <tbody>\n",
       "    <tr>\n",
       "      <th>0</th>\n",
       "      <td>5</td>\n",
       "      <td>2</td>\n",
       "      <td>2</td>\n",
       "      <td>59.990002</td>\n",
       "      <td>1</td>\n",
       "      <td>0</td>\n",
       "      <td>0</td>\n",
       "      <td>1</td>\n",
       "      <td>0</td>\n",
       "      <td>0</td>\n",
       "      <td>...</td>\n",
       "      <td>0</td>\n",
       "      <td>0</td>\n",
       "      <td>0</td>\n",
       "      <td>0</td>\n",
       "      <td>1</td>\n",
       "      <td>0</td>\n",
       "      <td>0</td>\n",
       "      <td>0</td>\n",
       "      <td>1</td>\n",
       "      <td>0</td>\n",
       "    </tr>\n",
       "    <tr>\n",
       "      <th>1</th>\n",
       "      <td>2</td>\n",
       "      <td>2</td>\n",
       "      <td>2</td>\n",
       "      <td>39.990002</td>\n",
       "      <td>1</td>\n",
       "      <td>0</td>\n",
       "      <td>0</td>\n",
       "      <td>1</td>\n",
       "      <td>0</td>\n",
       "      <td>0</td>\n",
       "      <td>...</td>\n",
       "      <td>0</td>\n",
       "      <td>0</td>\n",
       "      <td>0</td>\n",
       "      <td>0</td>\n",
       "      <td>1</td>\n",
       "      <td>0</td>\n",
       "      <td>0</td>\n",
       "      <td>0</td>\n",
       "      <td>1</td>\n",
       "      <td>0</td>\n",
       "    </tr>\n",
       "  </tbody>\n",
       "</table>\n",
       "<p>2 rows × 32 columns</p>\n",
       "</div>"
      ],
      "text/plain": [
       "   RealShippingDays  ScheduledShippingDays  Order Item Quantity  \\\n",
       "0                 5                      2                    2   \n",
       "1                 2                      2                    2   \n",
       "\n",
       "   Product Price  OrderAfterNoon  PaymentType_CASH  PaymentType_DEBIT  \\\n",
       "0      59.990002               1                 0                  0   \n",
       "1      39.990002               1                 0                  0   \n",
       "\n",
       "   PaymentType_PAYMENT  PaymentType_TRANSFER  Customer Segment_Consumer  ...  \\\n",
       "0                    1                     0                          0  ...   \n",
       "1                    1                     0                          0  ...   \n",
       "\n",
       "   ProductDepartment_Technology  Market_Africa  Market_Europe  Market_LATAM  \\\n",
       "0                             0              0              0             0   \n",
       "1                             0              0              0             0   \n",
       "\n",
       "   Market_Pacific Asia  Market_USCA  Shipping Mode_First Class  \\\n",
       "0                    1            0                          0   \n",
       "1                    1            0                          0   \n",
       "\n",
       "   Shipping Mode_Same Day  Shipping Mode_Second Class  \\\n",
       "0                       0                           1   \n",
       "1                       0                           1   \n",
       "\n",
       "   Shipping Mode_Standard Class  \n",
       "0                             0  \n",
       "1                             0  \n",
       "\n",
       "[2 rows x 32 columns]"
      ]
     },
     "execution_count": 2,
     "metadata": {},
     "output_type": "execute_result"
    }
   ],
   "source": [
    "data = pd.read_csv('/Users/willfitzhugh/Desktop/Coding/Supply-Chain-Analysis/Data/Model/DeliveryData_1.0.csv')\n",
    "data.head(2)"
   ]
  },
  {
   "cell_type": "code",
   "execution_count": 3,
   "id": "3bdf784a",
   "metadata": {},
   "outputs": [],
   "source": [
    "#train test split\n",
    "X = data.drop(columns=['RealShippingDays','ScheduledShippingDays'])\n",
    "y = data.RealShippingDays\n",
    "\n",
    "X_train, X_test, y_train, y_test = train_test_split(X, y, test_size = 0.3, random_state = 0)"
   ]
  },
  {
   "cell_type": "code",
   "execution_count": 4,
   "id": "158cd715",
   "metadata": {},
   "outputs": [
    {
     "data": {
      "image/png": "[encoded data removed]",
      "text/plain": [
       "<Figure size 1440x1152 with 1 Axes>"
      ]
     },
     "metadata": {},
     "output_type": "display_data"
    }
   ],
   "source": [
    "tree = DecisionTreeClassifier(max_depth = 4).fit( X, y )\n",
    "\n",
    "## Visualizing the decision tree model and identify any interesting interactions/features\n",
    "fig = plt.figure(figsize = (20, 16))\n",
    "plot_tree(tree, feature_names = X.columns, filled = True);"
   ]
  },
  {
   "cell_type": "markdown",
   "id": "d2a593c4",
   "metadata": {},
   "source": [
    "---\n",
    "# Random Forest Model"
   ]
  },
  {
   "cell_type": "code",
   "execution_count": 10,
   "id": "c46c1d9d",
   "metadata": {},
   "outputs": [
    {
     "data": {
      "text/html": [
       "<style>#sk-container-id-2 {color: black;background-color: white;}#sk-container-id-2 pre{padding: 0;}#sk-container-id-2 div.sk-toggleable {background-color: white;}#sk-container-id-2 label.sk-toggleable__label {cursor: pointer;display: block;width: 100%;margin-bottom: 0;padding: 0.3em;box-sizing: border-box;text-align: center;}#sk-container-id-2 label.sk-toggleable__label-arrow:before {content: \"▸\";float: left;margin-right: 0.25em;color: #696969;}#sk-container-id-2 label.sk-toggleable__label-arrow:hover:before {color: black;}#sk-container-id-2 div.sk-estimator:hover label.sk-toggleable__label-arrow:before {color: black;}#sk-container-id-2 div.sk-toggleable__content {max-height: 0;max-width: 0;overflow: hidden;text-align: left;background-color: #f0f8ff;}#sk-container-id-2 div.sk-toggleable__content pre {margin: 0.2em;color: black;border-radius: 0.25em;background-color: #f0f8ff;}#sk-container-id-2 input.sk-toggleable__control:checked~div.sk-toggleable__content {max-height: 200px;max-width: 100%;overflow: auto;}#sk-container-id-2 input.sk-toggleable__control:checked~label.sk-toggleable__label-arrow:before {content: \"▾\";}#sk-container-id-2 div.sk-estimator input.sk-toggleable__control:checked~label.sk-toggleable__label {background-color: #d4ebff;}#sk-container-id-2 div.sk-label input.sk-toggleable__control:checked~label.sk-toggleable__label {background-color: #d4ebff;}#sk-container-id-2 input.sk-hidden--visually {border: 0;clip: rect(1px 1px 1px 1px);clip: rect(1px, 1px, 1px, 1px);height: 1px;margin: -1px;overflow: hidden;padding: 0;position: absolute;width: 1px;}#sk-container-id-2 div.sk-estimator {font-family: monospace;background-color: #f0f8ff;border: 1px dotted black;border-radius: 0.25em;box-sizing: border-box;margin-bottom: 0.5em;}#sk-container-id-2 div.sk-estimator:hover {background-color: #d4ebff;}#sk-container-id-2 div.sk-parallel-item::after {content: \"\";width: 100%;border-bottom: 1px solid gray;flex-grow: 1;}#sk-container-id-2 div.sk-label:hover label.sk-toggleable__label {background-color: #d4ebff;}#sk-container-id-2 div.sk-serial::before {content: \"\";position: absolute;border-left: 1px solid gray;box-sizing: border-box;top: 0;bottom: 0;left: 50%;z-index: 0;}#sk-container-id-2 div.sk-serial {display: flex;flex-direction: column;align-items: center;background-color: white;padding-right: 0.2em;padding-left: 0.2em;position: relative;}#sk-container-id-2 div.sk-item {position: relative;z-index: 1;}#sk-container-id-2 div.sk-parallel {display: flex;align-items: stretch;justify-content: center;background-color: white;position: relative;}#sk-container-id-2 div.sk-item::before, #sk-container-id-2 div.sk-parallel-item::before {content: \"\";position: absolute;border-left: 1px solid gray;box-sizing: border-box;top: 0;bottom: 0;left: 50%;z-index: -1;}#sk-container-id-2 div.sk-parallel-item {display: flex;flex-direction: column;z-index: 1;position: relative;background-color: white;}#sk-container-id-2 div.sk-parallel-item:first-child::after {align-self: flex-end;width: 50%;}#sk-container-id-2 div.sk-parallel-item:last-child::after {align-self: flex-start;width: 50%;}#sk-container-id-2 div.sk-parallel-item:only-child::after {width: 0;}#sk-container-id-2 div.sk-dashed-wrapped {border: 1px dashed gray;margin: 0 0.4em 0.5em 0.4em;box-sizing: border-box;padding-bottom: 0.4em;background-color: white;}#sk-container-id-2 div.sk-label label {font-family: monospace;font-weight: bold;display: inline-block;line-height: 1.2em;}#sk-container-id-2 div.sk-label-container {text-align: center;}#sk-container-id-2 div.sk-container {/* jupyter's `normalize.less` sets `[hidden] { display: none; }` but bootstrap.min.css set `[hidden] { display: none !important; }` so we also need the `!important` here to be able to override the default hidden behavior on the sphinx rendered scikit-learn.org. See: https://github.com/scikit-learn/scikit-learn/issues/21755 */display: inline-block !important;position: relative;}#sk-container-id-2 div.sk-text-repr-fallback {display: none;}</style><div id=\"sk-container-id-2\" class=\"sk-top-container\"><div class=\"sk-text-repr-fallback\"><pre>GridSearchCV(cv=5, estimator=RandomForestClassifier(),\n",
       "             param_grid={&#x27;criterion&#x27;: [&#x27;gini&#x27;, &#x27;log_loss&#x27;],\n",
       "                         &#x27;n_estimators&#x27;: [100, 300, 400]},\n",
       "             scoring=&#x27;accuracy&#x27;)</pre><b>In a Jupyter environment, please rerun this cell to show the HTML representation or trust the notebook. <br />On GitHub, the HTML representation is unable to render, please try loading this page with nbviewer.org.</b></div><div class=\"sk-container\" hidden><div class=\"sk-item sk-dashed-wrapped\"><div class=\"sk-label-container\"><div class=\"sk-label sk-toggleable\"><input class=\"sk-toggleable__control sk-hidden--visually\" id=\"sk-estimator-id-2\" type=\"checkbox\" ><label for=\"sk-estimator-id-2\" class=\"sk-toggleable__label sk-toggleable__label-arrow\">GridSearchCV</label><div class=\"sk-toggleable__content\"><pre>GridSearchCV(cv=5, estimator=RandomForestClassifier(),\n",
       "             param_grid={&#x27;criterion&#x27;: [&#x27;gini&#x27;, &#x27;log_loss&#x27;],\n",
       "                         &#x27;n_estimators&#x27;: [100, 300, 400]},\n",
       "             scoring=&#x27;accuracy&#x27;)</pre></div></div></div><div class=\"sk-parallel\"><div class=\"sk-parallel-item\"><div class=\"sk-item\"><div class=\"sk-label-container\"><div class=\"sk-label sk-toggleable\"><input class=\"sk-toggleable__control sk-hidden--visually\" id=\"sk-estimator-id-3\" type=\"checkbox\" ><label for=\"sk-estimator-id-3\" class=\"sk-toggleable__label sk-toggleable__label-arrow\">estimator: RandomForestClassifier</label><div class=\"sk-toggleable__content\"><pre>RandomForestClassifier()</pre></div></div></div><div class=\"sk-serial\"><div class=\"sk-item\"><div class=\"sk-estimator sk-toggleable\"><input class=\"sk-toggleable__control sk-hidden--visually\" id=\"sk-estimator-id-4\" type=\"checkbox\" ><label for=\"sk-estimator-id-4\" class=\"sk-toggleable__label sk-toggleable__label-arrow\">RandomForestClassifier</label><div class=\"sk-toggleable__content\"><pre>RandomForestClassifier()</pre></div></div></div></div></div></div></div></div></div></div>"
      ],
      "text/plain": [
       "GridSearchCV(cv=5, estimator=RandomForestClassifier(),\n",
       "             param_grid={'criterion': ['gini', 'log_loss'],\n",
       "                         'n_estimators': [100, 300, 400]},\n",
       "             scoring='accuracy')"
      ]
     },
     "execution_count": 10,
     "metadata": {},
     "output_type": "execute_result"
    }
   ],
   "source": [
    "RFC = RandomForestClassifier()\n",
    "\n",
    "#grid search\n",
    "grid_values = {\n",
    "    'criterion':['gini', 'log_loss'],\n",
    "    'n_estimators':[100, 300, 400]\n",
    "}\n",
    "RFC_gridsearch = GridSearchCV(RFC, param_grid = grid_values, scoring = 'accuracy', cv=5)\n",
    "RFC_gridsearch.fit(X_train, y_train.values.ravel())"
   ]
  },
  {
   "cell_type": "code",
   "execution_count": 11,
   "id": "89086772",
   "metadata": {
    "scrolled": false
   },
   "outputs": [
    {
     "data": {
      "text/html": [
       "<div>\n",
       "<style scoped>\n",
       "    .dataframe tbody tr th:only-of-type {\n",
       "        vertical-align: middle;\n",
       "    }\n",
       "\n",
       "    .dataframe tbody tr th {\n",
       "        vertical-align: top;\n",
       "    }\n",
       "\n",
       "    .dataframe thead th {\n",
       "        text-align: right;\n",
       "    }\n",
       "</style>\n",
       "<table border=\"1\" class=\"dataframe\">\n",
       "  <thead>\n",
       "    <tr style=\"text-align: right;\">\n",
       "      <th></th>\n",
       "      <th>mean_fit_time</th>\n",
       "      <th>std_fit_time</th>\n",
       "      <th>mean_score_time</th>\n",
       "      <th>std_score_time</th>\n",
       "      <th>param_criterion</th>\n",
       "      <th>param_n_estimators</th>\n",
       "      <th>params</th>\n",
       "      <th>split0_test_score</th>\n",
       "      <th>split1_test_score</th>\n",
       "      <th>split2_test_score</th>\n",
       "      <th>split3_test_score</th>\n",
       "      <th>split4_test_score</th>\n",
       "      <th>mean_test_score</th>\n",
       "      <th>std_test_score</th>\n",
       "      <th>rank_test_score</th>\n",
       "    </tr>\n",
       "  </thead>\n",
       "  <tbody>\n",
       "    <tr>\n",
       "      <th>1</th>\n",
       "      <td>19.153273</td>\n",
       "      <td>0.206530</td>\n",
       "      <td>1.536193</td>\n",
       "      <td>0.032665</td>\n",
       "      <td>gini</td>\n",
       "      <td>300</td>\n",
       "      <td>{'criterion': 'gini', 'n_estimators': 300}</td>\n",
       "      <td>0.372131</td>\n",
       "      <td>0.375293</td>\n",
       "      <td>0.370874</td>\n",
       "      <td>0.378100</td>\n",
       "      <td>0.380933</td>\n",
       "      <td>0.375466</td>\n",
       "      <td>0.003717</td>\n",
       "      <td>1</td>\n",
       "    </tr>\n",
       "    <tr>\n",
       "      <th>4</th>\n",
       "      <td>20.408818</td>\n",
       "      <td>0.584459</td>\n",
       "      <td>1.568008</td>\n",
       "      <td>0.145916</td>\n",
       "      <td>log_loss</td>\n",
       "      <td>300</td>\n",
       "      <td>{'criterion': 'log_loss', 'n_estimators': 300}</td>\n",
       "      <td>0.372747</td>\n",
       "      <td>0.374348</td>\n",
       "      <td>0.371284</td>\n",
       "      <td>0.376416</td>\n",
       "      <td>0.379332</td>\n",
       "      <td>0.374826</td>\n",
       "      <td>0.002826</td>\n",
       "      <td>2</td>\n",
       "    </tr>\n",
       "    <tr>\n",
       "      <th>3</th>\n",
       "      <td>8.063339</td>\n",
       "      <td>0.340502</td>\n",
       "      <td>0.564651</td>\n",
       "      <td>0.031682</td>\n",
       "      <td>log_loss</td>\n",
       "      <td>100</td>\n",
       "      <td>{'criterion': 'log_loss', 'n_estimators': 100}</td>\n",
       "      <td>0.372008</td>\n",
       "      <td>0.376401</td>\n",
       "      <td>0.370011</td>\n",
       "      <td>0.377484</td>\n",
       "      <td>0.377402</td>\n",
       "      <td>0.374661</td>\n",
       "      <td>0.003071</td>\n",
       "      <td>3</td>\n",
       "    </tr>\n",
       "    <tr>\n",
       "      <th>2</th>\n",
       "      <td>27.478387</td>\n",
       "      <td>1.495657</td>\n",
       "      <td>2.205191</td>\n",
       "      <td>0.115688</td>\n",
       "      <td>gini</td>\n",
       "      <td>400</td>\n",
       "      <td>{'criterion': 'gini', 'n_estimators': 400}</td>\n",
       "      <td>0.371187</td>\n",
       "      <td>0.375416</td>\n",
       "      <td>0.369806</td>\n",
       "      <td>0.376745</td>\n",
       "      <td>0.379332</td>\n",
       "      <td>0.374497</td>\n",
       "      <td>0.003528</td>\n",
       "      <td>4</td>\n",
       "    </tr>\n",
       "    <tr>\n",
       "      <th>5</th>\n",
       "      <td>26.665585</td>\n",
       "      <td>0.136122</td>\n",
       "      <td>2.011030</td>\n",
       "      <td>0.029318</td>\n",
       "      <td>log_loss</td>\n",
       "      <td>400</td>\n",
       "      <td>{'criterion': 'log_loss', 'n_estimators': 400}</td>\n",
       "      <td>0.371639</td>\n",
       "      <td>0.376688</td>\n",
       "      <td>0.370545</td>\n",
       "      <td>0.376786</td>\n",
       "      <td>0.376663</td>\n",
       "      <td>0.374464</td>\n",
       "      <td>0.002775</td>\n",
       "      <td>5</td>\n",
       "    </tr>\n",
       "  </tbody>\n",
       "</table>\n",
       "</div>"
      ],
      "text/plain": [
       "   mean_fit_time  std_fit_time  mean_score_time  std_score_time  \\\n",
       "1      19.153273      0.206530         1.536193        0.032665   \n",
       "4      20.408818      0.584459         1.568008        0.145916   \n",
       "3       8.063339      0.340502         0.564651        0.031682   \n",
       "2      27.478387      1.495657         2.205191        0.115688   \n",
       "5      26.665585      0.136122         2.011030        0.029318   \n",
       "\n",
       "  param_criterion param_n_estimators  \\\n",
       "1            gini                300   \n",
       "4        log_loss                300   \n",
       "3        log_loss                100   \n",
       "2            gini                400   \n",
       "5        log_loss                400   \n",
       "\n",
       "                                           params  split0_test_score  \\\n",
       "1      {'criterion': 'gini', 'n_estimators': 300}           0.372131   \n",
       "4  {'criterion': 'log_loss', 'n_estimators': 300}           0.372747   \n",
       "3  {'criterion': 'log_loss', 'n_estimators': 100}           0.372008   \n",
       "2      {'criterion': 'gini', 'n_estimators': 400}           0.371187   \n",
       "5  {'criterion': 'log_loss', 'n_estimators': 400}           0.371639   \n",
       "\n",
       "   split1_test_score  split2_test_score  split3_test_score  split4_test_score  \\\n",
       "1           0.375293           0.370874           0.378100           0.380933   \n",
       "4           0.374348           0.371284           0.376416           0.379332   \n",
       "3           0.376401           0.370011           0.377484           0.377402   \n",
       "2           0.375416           0.369806           0.376745           0.379332   \n",
       "5           0.376688           0.370545           0.376786           0.376663   \n",
       "\n",
       "   mean_test_score  std_test_score  rank_test_score  \n",
       "1         0.375466        0.003717                1  \n",
       "4         0.374826        0.002826                2  \n",
       "3         0.374661        0.003071                3  \n",
       "2         0.374497        0.003528                4  \n",
       "5         0.374464        0.002775                5  "
      ]
     },
     "execution_count": 11,
     "metadata": {},
     "output_type": "execute_result"
    }
   ],
   "source": [
    "#grid search CV results\n",
    "pd.DataFrame(RFC_gridsearch.cv_results_).sort_values(by='rank_test_score').head()"
   ]
  },
  {
   "cell_type": "code",
   "execution_count": 100,
   "id": "41427cce",
   "metadata": {},
   "outputs": [
    {
     "data": {
      "text/plain": [
       "0.551789262781035"
      ]
     },
     "execution_count": 100,
     "metadata": {},
     "output_type": "execute_result"
    }
   ],
   "source": [
    "RFC = RandomForestClassifier(n_estimators=100, criterion='log_loss')\n",
    "RFC.fit(X_train, y_train)\n",
    "RFC.score(X_train, y_train)"
   ]
  },
  {
   "cell_type": "code",
   "execution_count": 101,
   "id": "bd6cae7e",
   "metadata": {},
   "outputs": [
    {
     "data": {
      "text/plain": [
       "0.3767938229264461"
      ]
     },
     "execution_count": 101,
     "metadata": {},
     "output_type": "execute_result"
    }
   ],
   "source": [
    "RFC.score(X_test, y_test)"
   ]
  },
  {
   "cell_type": "code",
   "execution_count": 188,
   "id": "a2607e71",
   "metadata": {
    "scrolled": true
   },
   "outputs": [
    {
     "data": {
      "text/plain": [
       "1.2536547046538808"
      ]
     },
     "execution_count": 188,
     "metadata": {},
     "output_type": "execute_result"
    }
   ],
   "source": [
    "RFC_pred = RFC.predict(X_test)\n",
    "np.mean(np.abs(RFC_pred - y_test))"
   ]
  },
  {
   "cell_type": "markdown",
   "id": "d2f18b2a",
   "metadata": {},
   "source": [
    "- though the accuracy is much improved from the original ScheduledShipDays, the avg days off schedule has not improved much"
   ]
  },
  {
   "cell_type": "code",
   "execution_count": 45,
   "id": "80d15ccd",
   "metadata": {},
   "outputs": [
    {
     "data": {
      "text/plain": [
       "Counter({6: 8614, 5: 7655, 2: 16502, 3: 7974, 4: 8600, 0: 1521, 1: 1327})"
      ]
     },
     "execution_count": 45,
     "metadata": {},
     "output_type": "execute_result"
    }
   ],
   "source": [
    "Counter(RFC_pred)"
   ]
  },
  {
   "cell_type": "code",
   "execution_count": 46,
   "id": "41b9440c",
   "metadata": {},
   "outputs": [
    {
     "data": {
      "text/plain": [
       "Counter({4: 8299, 3: 8333, 2: 16196, 6: 8345, 5: 8172, 0: 1521, 1: 1327})"
      ]
     },
     "execution_count": 46,
     "metadata": {},
     "output_type": "execute_result"
    }
   ],
   "source": [
    "Counter(y_test)"
   ]
  },
  {
   "cell_type": "markdown",
   "id": "4469a98a",
   "metadata": {},
   "source": [
    "---\n",
    "# Linear Regression Model"
   ]
  },
  {
   "cell_type": "code",
   "execution_count": 48,
   "id": "e512f46f",
   "metadata": {},
   "outputs": [],
   "source": [
    "LR= LinearRegression()"
   ]
  },
  {
   "cell_type": "code",
   "execution_count": 115,
   "id": "3b4484a1",
   "metadata": {},
   "outputs": [
    {
     "data": {
      "text/plain": [
       "0.3907480978902088"
      ]
     },
     "execution_count": 115,
     "metadata": {},
     "output_type": "execute_result"
    }
   ],
   "source": [
    "LR.fit(X_train,y_train)\n",
    "LR.score(X_train,y_train)"
   ]
  },
  {
   "cell_type": "code",
   "execution_count": 116,
   "id": "e8cb7a72",
   "metadata": {},
   "outputs": [
    {
     "name": "stdout",
     "output_type": "stream",
     "text": [
      "R^2 test score\n"
     ]
    },
    {
     "data": {
      "text/plain": [
       "0.3959774280046593"
      ]
     },
     "execution_count": 116,
     "metadata": {},
     "output_type": "execute_result"
    }
   ],
   "source": [
    "print(\"R^2 test score\")\n",
    "LR.score(X_test,y_test)"
   ]
  },
  {
   "cell_type": "code",
   "execution_count": 117,
   "id": "c63e535d",
   "metadata": {},
   "outputs": [
    {
     "name": "stdout",
     "output_type": "stream",
     "text": [
      "Avg days off schedule\n"
     ]
    },
    {
     "data": {
      "text/plain": [
       "0.9579637116088364"
      ]
     },
     "execution_count": 117,
     "metadata": {},
     "output_type": "execute_result"
    }
   ],
   "source": [
    "print(\"Avg days off schedule\")\n",
    "LR_pred = np.round(LR.predict(X_test))\n",
    "np.mean(np.abs(LR_pred - y_test))"
   ]
  },
  {
   "cell_type": "code",
   "execution_count": 118,
   "id": "d42fb3cd",
   "metadata": {},
   "outputs": [
    {
     "name": "stdout",
     "output_type": "stream",
     "text": [
      "Accuracy\n"
     ]
    },
    {
     "data": {
      "text/plain": [
       "0.35924357672484813"
      ]
     },
     "execution_count": 118,
     "metadata": {},
     "output_type": "execute_result"
    }
   ],
   "source": [
    "print(\"Accuracy\")\n",
    "(LR_pred == y_test).mean()"
   ]
  },
  {
   "cell_type": "code",
   "execution_count": 120,
   "id": "5c1e0e28",
   "metadata": {},
   "outputs": [
    {
     "data": {
      "text/plain": [
       "Counter({4.0: 41360, 2.0: 7985, 0.0: 1903, 1.0: 945})"
      ]
     },
     "execution_count": 120,
     "metadata": {},
     "output_type": "execute_result"
    }
   ],
   "source": [
    "Counter(np.round(LR_pred))"
   ]
  },
  {
   "cell_type": "markdown",
   "id": "e7e5c157",
   "metadata": {},
   "source": [
    "- The lin reg model reduced avg days of schedule per order significantly, but accuracy was slightly lower than the random forrest model. Ensemble model might be the move"
   ]
  },
  {
   "cell_type": "markdown",
   "id": "074e8ffe",
   "metadata": {},
   "source": [
    "---\n",
    "# Logistic Regression model"
   ]
  },
  {
   "cell_type": "code",
   "execution_count": 4,
   "id": "8a4bb347",
   "metadata": {},
   "outputs": [
    {
     "data": {
      "text/html": [
       "<style>#sk-container-id-1 {color: black;background-color: white;}#sk-container-id-1 pre{padding: 0;}#sk-container-id-1 div.sk-toggleable {background-color: white;}#sk-container-id-1 label.sk-toggleable__label {cursor: pointer;display: block;width: 100%;margin-bottom: 0;padding: 0.3em;box-sizing: border-box;text-align: center;}#sk-container-id-1 label.sk-toggleable__label-arrow:before {content: \"▸\";float: left;margin-right: 0.25em;color: #696969;}#sk-container-id-1 label.sk-toggleable__label-arrow:hover:before {color: black;}#sk-container-id-1 div.sk-estimator:hover label.sk-toggleable__label-arrow:before {color: black;}#sk-container-id-1 div.sk-toggleable__content {max-height: 0;max-width: 0;overflow: hidden;text-align: left;background-color: #f0f8ff;}#sk-container-id-1 div.sk-toggleable__content pre {margin: 0.2em;color: black;border-radius: 0.25em;background-color: #f0f8ff;}#sk-container-id-1 input.sk-toggleable__control:checked~div.sk-toggleable__content {max-height: 200px;max-width: 100%;overflow: auto;}#sk-container-id-1 input.sk-toggleable__control:checked~label.sk-toggleable__label-arrow:before {content: \"▾\";}#sk-container-id-1 div.sk-estimator input.sk-toggleable__control:checked~label.sk-toggleable__label {background-color: #d4ebff;}#sk-container-id-1 div.sk-label input.sk-toggleable__control:checked~label.sk-toggleable__label {background-color: #d4ebff;}#sk-container-id-1 input.sk-hidden--visually {border: 0;clip: rect(1px 1px 1px 1px);clip: rect(1px, 1px, 1px, 1px);height: 1px;margin: -1px;overflow: hidden;padding: 0;position: absolute;width: 1px;}#sk-container-id-1 div.sk-estimator {font-family: monospace;background-color: #f0f8ff;border: 1px dotted black;border-radius: 0.25em;box-sizing: border-box;margin-bottom: 0.5em;}#sk-container-id-1 div.sk-estimator:hover {background-color: #d4ebff;}#sk-container-id-1 div.sk-parallel-item::after {content: \"\";width: 100%;border-bottom: 1px solid gray;flex-grow: 1;}#sk-container-id-1 div.sk-label:hover label.sk-toggleable__label {background-color: #d4ebff;}#sk-container-id-1 div.sk-serial::before {content: \"\";position: absolute;border-left: 1px solid gray;box-sizing: border-box;top: 0;bottom: 0;left: 50%;z-index: 0;}#sk-container-id-1 div.sk-serial {display: flex;flex-direction: column;align-items: center;background-color: white;padding-right: 0.2em;padding-left: 0.2em;position: relative;}#sk-container-id-1 div.sk-item {position: relative;z-index: 1;}#sk-container-id-1 div.sk-parallel {display: flex;align-items: stretch;justify-content: center;background-color: white;position: relative;}#sk-container-id-1 div.sk-item::before, #sk-container-id-1 div.sk-parallel-item::before {content: \"\";position: absolute;border-left: 1px solid gray;box-sizing: border-box;top: 0;bottom: 0;left: 50%;z-index: -1;}#sk-container-id-1 div.sk-parallel-item {display: flex;flex-direction: column;z-index: 1;position: relative;background-color: white;}#sk-container-id-1 div.sk-parallel-item:first-child::after {align-self: flex-end;width: 50%;}#sk-container-id-1 div.sk-parallel-item:last-child::after {align-self: flex-start;width: 50%;}#sk-container-id-1 div.sk-parallel-item:only-child::after {width: 0;}#sk-container-id-1 div.sk-dashed-wrapped {border: 1px dashed gray;margin: 0 0.4em 0.5em 0.4em;box-sizing: border-box;padding-bottom: 0.4em;background-color: white;}#sk-container-id-1 div.sk-label label {font-family: monospace;font-weight: bold;display: inline-block;line-height: 1.2em;}#sk-container-id-1 div.sk-label-container {text-align: center;}#sk-container-id-1 div.sk-container {/* jupyter's `normalize.less` sets `[hidden] { display: none; }` but bootstrap.min.css set `[hidden] { display: none !important; }` so we also need the `!important` here to be able to override the default hidden behavior on the sphinx rendered scikit-learn.org. See: https://github.com/scikit-learn/scikit-learn/issues/21755 */display: inline-block !important;position: relative;}#sk-container-id-1 div.sk-text-repr-fallback {display: none;}</style><div id=\"sk-container-id-1\" class=\"sk-top-container\"><div class=\"sk-text-repr-fallback\"><pre>GridSearchCV(cv=5, estimator=LogisticRegression(),\n",
       "             param_grid={&#x27;C&#x27;: [1, 2, 10], &#x27;penalty&#x27;: [&#x27;l1&#x27;, &#x27;l2&#x27;],\n",
       "                         &#x27;solver&#x27;: [&#x27;saga&#x27;], &#x27;tol&#x27;: [0.01]},\n",
       "             scoring=&#x27;accuracy&#x27;)</pre><b>In a Jupyter environment, please rerun this cell to show the HTML representation or trust the notebook. <br />On GitHub, the HTML representation is unable to render, please try loading this page with nbviewer.org.</b></div><div class=\"sk-container\" hidden><div class=\"sk-item sk-dashed-wrapped\"><div class=\"sk-label-container\"><div class=\"sk-label sk-toggleable\"><input class=\"sk-toggleable__control sk-hidden--visually\" id=\"sk-estimator-id-1\" type=\"checkbox\" ><label for=\"sk-estimator-id-1\" class=\"sk-toggleable__label sk-toggleable__label-arrow\">GridSearchCV</label><div class=\"sk-toggleable__content\"><pre>GridSearchCV(cv=5, estimator=LogisticRegression(),\n",
       "             param_grid={&#x27;C&#x27;: [1, 2, 10], &#x27;penalty&#x27;: [&#x27;l1&#x27;, &#x27;l2&#x27;],\n",
       "                         &#x27;solver&#x27;: [&#x27;saga&#x27;], &#x27;tol&#x27;: [0.01]},\n",
       "             scoring=&#x27;accuracy&#x27;)</pre></div></div></div><div class=\"sk-parallel\"><div class=\"sk-parallel-item\"><div class=\"sk-item\"><div class=\"sk-label-container\"><div class=\"sk-label sk-toggleable\"><input class=\"sk-toggleable__control sk-hidden--visually\" id=\"sk-estimator-id-2\" type=\"checkbox\" ><label for=\"sk-estimator-id-2\" class=\"sk-toggleable__label sk-toggleable__label-arrow\">estimator: LogisticRegression</label><div class=\"sk-toggleable__content\"><pre>LogisticRegression()</pre></div></div></div><div class=\"sk-serial\"><div class=\"sk-item\"><div class=\"sk-estimator sk-toggleable\"><input class=\"sk-toggleable__control sk-hidden--visually\" id=\"sk-estimator-id-3\" type=\"checkbox\" ><label for=\"sk-estimator-id-3\" class=\"sk-toggleable__label sk-toggleable__label-arrow\">LogisticRegression</label><div class=\"sk-toggleable__content\"><pre>LogisticRegression()</pre></div></div></div></div></div></div></div></div></div></div>"
      ],
      "text/plain": [
       "GridSearchCV(cv=5, estimator=LogisticRegression(),\n",
       "             param_grid={'C': [1, 2, 10], 'penalty': ['l1', 'l2'],\n",
       "                         'solver': ['saga'], 'tol': [0.01]},\n",
       "             scoring='accuracy')"
      ]
     },
     "execution_count": 4,
     "metadata": {},
     "output_type": "execute_result"
    }
   ],
   "source": [
    "LReg = LogisticRegression()\n",
    "\n",
    "#grid search\n",
    "grid_values = {\n",
    "    'penalty':['l1', 'l2'],\n",
    "    'solver':['saga'],\n",
    "    'tol':[0.01],\n",
    "    'C':[1,2,10]\n",
    "}\n",
    "LReg_gridsearch = GridSearchCV(LReg, param_grid = grid_values, scoring = 'accuracy', cv=5)\n",
    "LReg_gridsearch.fit(X_train, y_train.values.ravel())"
   ]
  },
  {
   "cell_type": "code",
   "execution_count": 5,
   "id": "e5a623e6",
   "metadata": {},
   "outputs": [
    {
     "data": {
      "text/html": [
       "<div>\n",
       "<style scoped>\n",
       "    .dataframe tbody tr th:only-of-type {\n",
       "        vertical-align: middle;\n",
       "    }\n",
       "\n",
       "    .dataframe tbody tr th {\n",
       "        vertical-align: top;\n",
       "    }\n",
       "\n",
       "    .dataframe thead th {\n",
       "        text-align: right;\n",
       "    }\n",
       "</style>\n",
       "<table border=\"1\" class=\"dataframe\">\n",
       "  <thead>\n",
       "    <tr style=\"text-align: right;\">\n",
       "      <th></th>\n",
       "      <th>mean_fit_time</th>\n",
       "      <th>std_fit_time</th>\n",
       "      <th>mean_score_time</th>\n",
       "      <th>std_score_time</th>\n",
       "      <th>param_C</th>\n",
       "      <th>param_penalty</th>\n",
       "      <th>param_solver</th>\n",
       "      <th>param_tol</th>\n",
       "      <th>params</th>\n",
       "      <th>split0_test_score</th>\n",
       "      <th>split1_test_score</th>\n",
       "      <th>split2_test_score</th>\n",
       "      <th>split3_test_score</th>\n",
       "      <th>split4_test_score</th>\n",
       "      <th>mean_test_score</th>\n",
       "      <th>std_test_score</th>\n",
       "      <th>rank_test_score</th>\n",
       "    </tr>\n",
       "  </thead>\n",
       "  <tbody>\n",
       "    <tr>\n",
       "      <th>0</th>\n",
       "      <td>12.916140</td>\n",
       "      <td>0.573059</td>\n",
       "      <td>0.006026</td>\n",
       "      <td>0.002126</td>\n",
       "      <td>1</td>\n",
       "      <td>l1</td>\n",
       "      <td>saga</td>\n",
       "      <td>0.01</td>\n",
       "      <td>{'C': 1, 'penalty': 'l1', 'solver': 'saga', 't...</td>\n",
       "      <td>0.315638</td>\n",
       "      <td>0.315638</td>\n",
       "      <td>0.315651</td>\n",
       "      <td>0.315651</td>\n",
       "      <td>0.315651</td>\n",
       "      <td>0.315646</td>\n",
       "      <td>0.000006</td>\n",
       "      <td>1</td>\n",
       "    </tr>\n",
       "    <tr>\n",
       "      <th>1</th>\n",
       "      <td>10.649233</td>\n",
       "      <td>0.114874</td>\n",
       "      <td>0.005426</td>\n",
       "      <td>0.000156</td>\n",
       "      <td>1</td>\n",
       "      <td>l2</td>\n",
       "      <td>saga</td>\n",
       "      <td>0.01</td>\n",
       "      <td>{'C': 1, 'penalty': 'l2', 'solver': 'saga', 't...</td>\n",
       "      <td>0.315638</td>\n",
       "      <td>0.315638</td>\n",
       "      <td>0.315651</td>\n",
       "      <td>0.315651</td>\n",
       "      <td>0.315651</td>\n",
       "      <td>0.315646</td>\n",
       "      <td>0.000006</td>\n",
       "      <td>1</td>\n",
       "    </tr>\n",
       "    <tr>\n",
       "      <th>2</th>\n",
       "      <td>12.728668</td>\n",
       "      <td>0.337288</td>\n",
       "      <td>0.005048</td>\n",
       "      <td>0.000327</td>\n",
       "      <td>2</td>\n",
       "      <td>l1</td>\n",
       "      <td>saga</td>\n",
       "      <td>0.01</td>\n",
       "      <td>{'C': 2, 'penalty': 'l1', 'solver': 'saga', 't...</td>\n",
       "      <td>0.315638</td>\n",
       "      <td>0.315638</td>\n",
       "      <td>0.315651</td>\n",
       "      <td>0.315651</td>\n",
       "      <td>0.315651</td>\n",
       "      <td>0.315646</td>\n",
       "      <td>0.000006</td>\n",
       "      <td>1</td>\n",
       "    </tr>\n",
       "    <tr>\n",
       "      <th>3</th>\n",
       "      <td>10.574379</td>\n",
       "      <td>0.031048</td>\n",
       "      <td>0.005346</td>\n",
       "      <td>0.000117</td>\n",
       "      <td>2</td>\n",
       "      <td>l2</td>\n",
       "      <td>saga</td>\n",
       "      <td>0.01</td>\n",
       "      <td>{'C': 2, 'penalty': 'l2', 'solver': 'saga', 't...</td>\n",
       "      <td>0.315638</td>\n",
       "      <td>0.315638</td>\n",
       "      <td>0.315651</td>\n",
       "      <td>0.315651</td>\n",
       "      <td>0.315651</td>\n",
       "      <td>0.315646</td>\n",
       "      <td>0.000006</td>\n",
       "      <td>1</td>\n",
       "    </tr>\n",
       "    <tr>\n",
       "      <th>4</th>\n",
       "      <td>14.589284</td>\n",
       "      <td>1.076175</td>\n",
       "      <td>0.005514</td>\n",
       "      <td>0.000516</td>\n",
       "      <td>10</td>\n",
       "      <td>l1</td>\n",
       "      <td>saga</td>\n",
       "      <td>0.01</td>\n",
       "      <td>{'C': 10, 'penalty': 'l1', 'solver': 'saga', '...</td>\n",
       "      <td>0.315638</td>\n",
       "      <td>0.315638</td>\n",
       "      <td>0.315651</td>\n",
       "      <td>0.315651</td>\n",
       "      <td>0.315651</td>\n",
       "      <td>0.315646</td>\n",
       "      <td>0.000006</td>\n",
       "      <td>1</td>\n",
       "    </tr>\n",
       "    <tr>\n",
       "      <th>5</th>\n",
       "      <td>11.467141</td>\n",
       "      <td>0.981380</td>\n",
       "      <td>0.005716</td>\n",
       "      <td>0.000550</td>\n",
       "      <td>10</td>\n",
       "      <td>l2</td>\n",
       "      <td>saga</td>\n",
       "      <td>0.01</td>\n",
       "      <td>{'C': 10, 'penalty': 'l2', 'solver': 'saga', '...</td>\n",
       "      <td>0.315638</td>\n",
       "      <td>0.315638</td>\n",
       "      <td>0.315651</td>\n",
       "      <td>0.315651</td>\n",
       "      <td>0.315651</td>\n",
       "      <td>0.315646</td>\n",
       "      <td>0.000006</td>\n",
       "      <td>1</td>\n",
       "    </tr>\n",
       "  </tbody>\n",
       "</table>\n",
       "</div>"
      ],
      "text/plain": [
       "   mean_fit_time  std_fit_time  mean_score_time  std_score_time param_C  \\\n",
       "0      12.916140      0.573059         0.006026        0.002126       1   \n",
       "1      10.649233      0.114874         0.005426        0.000156       1   \n",
       "2      12.728668      0.337288         0.005048        0.000327       2   \n",
       "3      10.574379      0.031048         0.005346        0.000117       2   \n",
       "4      14.589284      1.076175         0.005514        0.000516      10   \n",
       "5      11.467141      0.981380         0.005716        0.000550      10   \n",
       "\n",
       "  param_penalty param_solver param_tol  \\\n",
       "0            l1         saga      0.01   \n",
       "1            l2         saga      0.01   \n",
       "2            l1         saga      0.01   \n",
       "3            l2         saga      0.01   \n",
       "4            l1         saga      0.01   \n",
       "5            l2         saga      0.01   \n",
       "\n",
       "                                              params  split0_test_score  \\\n",
       "0  {'C': 1, 'penalty': 'l1', 'solver': 'saga', 't...           0.315638   \n",
       "1  {'C': 1, 'penalty': 'l2', 'solver': 'saga', 't...           0.315638   \n",
       "2  {'C': 2, 'penalty': 'l1', 'solver': 'saga', 't...           0.315638   \n",
       "3  {'C': 2, 'penalty': 'l2', 'solver': 'saga', 't...           0.315638   \n",
       "4  {'C': 10, 'penalty': 'l1', 'solver': 'saga', '...           0.315638   \n",
       "5  {'C': 10, 'penalty': 'l2', 'solver': 'saga', '...           0.315638   \n",
       "\n",
       "   split1_test_score  split2_test_score  split3_test_score  split4_test_score  \\\n",
       "0           0.315638           0.315651           0.315651           0.315651   \n",
       "1           0.315638           0.315651           0.315651           0.315651   \n",
       "2           0.315638           0.315651           0.315651           0.315651   \n",
       "3           0.315638           0.315651           0.315651           0.315651   \n",
       "4           0.315638           0.315651           0.315651           0.315651   \n",
       "5           0.315638           0.315651           0.315651           0.315651   \n",
       "\n",
       "   mean_test_score  std_test_score  rank_test_score  \n",
       "0         0.315646        0.000006                1  \n",
       "1         0.315646        0.000006                1  \n",
       "2         0.315646        0.000006                1  \n",
       "3         0.315646        0.000006                1  \n",
       "4         0.315646        0.000006                1  \n",
       "5         0.315646        0.000006                1  "
      ]
     },
     "execution_count": 5,
     "metadata": {},
     "output_type": "execute_result"
    }
   ],
   "source": [
    "#grid search CV results\n",
    "pd.DataFrame(LReg_gridsearch.cv_results_).sort_values(by='rank_test_score')"
   ]
  },
  {
   "cell_type": "code",
   "execution_count": 54,
   "id": "b3176f36",
   "metadata": {},
   "outputs": [
    {
     "data": {
      "text/html": [
       "<style>#sk-container-id-8 {color: black;background-color: white;}#sk-container-id-8 pre{padding: 0;}#sk-container-id-8 div.sk-toggleable {background-color: white;}#sk-container-id-8 label.sk-toggleable__label {cursor: pointer;display: block;width: 100%;margin-bottom: 0;padding: 0.3em;box-sizing: border-box;text-align: center;}#sk-container-id-8 label.sk-toggleable__label-arrow:before {content: \"▸\";float: left;margin-right: 0.25em;color: #696969;}#sk-container-id-8 label.sk-toggleable__label-arrow:hover:before {color: black;}#sk-container-id-8 div.sk-estimator:hover label.sk-toggleable__label-arrow:before {color: black;}#sk-container-id-8 div.sk-toggleable__content {max-height: 0;max-width: 0;overflow: hidden;text-align: left;background-color: #f0f8ff;}#sk-container-id-8 div.sk-toggleable__content pre {margin: 0.2em;color: black;border-radius: 0.25em;background-color: #f0f8ff;}#sk-container-id-8 input.sk-toggleable__control:checked~div.sk-toggleable__content {max-height: 200px;max-width: 100%;overflow: auto;}#sk-container-id-8 input.sk-toggleable__control:checked~label.sk-toggleable__label-arrow:before {content: \"▾\";}#sk-container-id-8 div.sk-estimator input.sk-toggleable__control:checked~label.sk-toggleable__label {background-color: #d4ebff;}#sk-container-id-8 div.sk-label input.sk-toggleable__control:checked~label.sk-toggleable__label {background-color: #d4ebff;}#sk-container-id-8 input.sk-hidden--visually {border: 0;clip: rect(1px 1px 1px 1px);clip: rect(1px, 1px, 1px, 1px);height: 1px;margin: -1px;overflow: hidden;padding: 0;position: absolute;width: 1px;}#sk-container-id-8 div.sk-estimator {font-family: monospace;background-color: #f0f8ff;border: 1px dotted black;border-radius: 0.25em;box-sizing: border-box;margin-bottom: 0.5em;}#sk-container-id-8 div.sk-estimator:hover {background-color: #d4ebff;}#sk-container-id-8 div.sk-parallel-item::after {content: \"\";width: 100%;border-bottom: 1px solid gray;flex-grow: 1;}#sk-container-id-8 div.sk-label:hover label.sk-toggleable__label {background-color: #d4ebff;}#sk-container-id-8 div.sk-serial::before {content: \"\";position: absolute;border-left: 1px solid gray;box-sizing: border-box;top: 0;bottom: 0;left: 50%;z-index: 0;}#sk-container-id-8 div.sk-serial {display: flex;flex-direction: column;align-items: center;background-color: white;padding-right: 0.2em;padding-left: 0.2em;position: relative;}#sk-container-id-8 div.sk-item {position: relative;z-index: 1;}#sk-container-id-8 div.sk-parallel {display: flex;align-items: stretch;justify-content: center;background-color: white;position: relative;}#sk-container-id-8 div.sk-item::before, #sk-container-id-8 div.sk-parallel-item::before {content: \"\";position: absolute;border-left: 1px solid gray;box-sizing: border-box;top: 0;bottom: 0;left: 50%;z-index: -1;}#sk-container-id-8 div.sk-parallel-item {display: flex;flex-direction: column;z-index: 1;position: relative;background-color: white;}#sk-container-id-8 div.sk-parallel-item:first-child::after {align-self: flex-end;width: 50%;}#sk-container-id-8 div.sk-parallel-item:last-child::after {align-self: flex-start;width: 50%;}#sk-container-id-8 div.sk-parallel-item:only-child::after {width: 0;}#sk-container-id-8 div.sk-dashed-wrapped {border: 1px dashed gray;margin: 0 0.4em 0.5em 0.4em;box-sizing: border-box;padding-bottom: 0.4em;background-color: white;}#sk-container-id-8 div.sk-label label {font-family: monospace;font-weight: bold;display: inline-block;line-height: 1.2em;}#sk-container-id-8 div.sk-label-container {text-align: center;}#sk-container-id-8 div.sk-container {/* jupyter's `normalize.less` sets `[hidden] { display: none; }` but bootstrap.min.css set `[hidden] { display: none !important; }` so we also need the `!important` here to be able to override the default hidden behavior on the sphinx rendered scikit-learn.org. See: https://github.com/scikit-learn/scikit-learn/issues/21755 */display: inline-block !important;position: relative;}#sk-container-id-8 div.sk-text-repr-fallback {display: none;}</style><div id=\"sk-container-id-8\" class=\"sk-top-container\"><div class=\"sk-text-repr-fallback\"><pre>LogisticRegression(C=1, penalty=&#x27;l1&#x27;, solver=&#x27;saga&#x27;, tol=0.01)</pre><b>In a Jupyter environment, please rerun this cell to show the HTML representation or trust the notebook. <br />On GitHub, the HTML representation is unable to render, please try loading this page with nbviewer.org.</b></div><div class=\"sk-container\" hidden><div class=\"sk-item\"><div class=\"sk-estimator sk-toggleable\"><input class=\"sk-toggleable__control sk-hidden--visually\" id=\"sk-estimator-id-20\" type=\"checkbox\" checked><label for=\"sk-estimator-id-20\" class=\"sk-toggleable__label sk-toggleable__label-arrow\">LogisticRegression</label><div class=\"sk-toggleable__content\"><pre>LogisticRegression(C=1, penalty=&#x27;l1&#x27;, solver=&#x27;saga&#x27;, tol=0.01)</pre></div></div></div></div></div>"
      ],
      "text/plain": [
       "LogisticRegression(C=1, penalty='l1', solver='saga', tol=0.01)"
      ]
     },
     "execution_count": 54,
     "metadata": {},
     "output_type": "execute_result"
    }
   ],
   "source": [
    "LReg = LogisticRegression( penalty='l1', solver='saga', tol=.01, C=1 )\n",
    "LReg.fit(X_train,y_train)"
   ]
  },
  {
   "cell_type": "code",
   "execution_count": 55,
   "id": "60953207",
   "metadata": {},
   "outputs": [
    {
     "data": {
      "text/plain": [
       "0.3156459903762461"
      ]
     },
     "execution_count": 55,
     "metadata": {},
     "output_type": "execute_result"
    }
   ],
   "source": [
    "LReg.score(X_train,y_train)"
   ]
  },
  {
   "cell_type": "code",
   "execution_count": 57,
   "id": "87c046b6",
   "metadata": {},
   "outputs": [
    {
     "name": "stdout",
     "output_type": "stream",
     "text": [
      "test accuracy score\n"
     ]
    },
    {
     "data": {
      "text/plain": [
       "0.31030981166056754"
      ]
     },
     "execution_count": 57,
     "metadata": {},
     "output_type": "execute_result"
    }
   ],
   "source": [
    "print('test accuracy score')\n",
    "LReg.score(X_test,y_test)"
   ]
  },
  {
   "cell_type": "code",
   "execution_count": 58,
   "id": "f7e2ace3",
   "metadata": {},
   "outputs": [
    {
     "name": "stdout",
     "output_type": "stream",
     "text": [
      "Avg days off schedule\n"
     ]
    },
    {
     "data": {
      "text/plain": [
       "1.6706454888586593"
      ]
     },
     "execution_count": 58,
     "metadata": {},
     "output_type": "execute_result"
    }
   ],
   "source": [
    "print(\"Avg days off schedule\")\n",
    "LReg_pred = np.round(LReg.predict(X_test))\n",
    "np.mean(np.abs(LReg_pred - y_test))"
   ]
  },
  {
   "cell_type": "markdown",
   "id": "874800c1",
   "metadata": {},
   "source": [
    "- bad results treating this like a classification problem"
   ]
  },
  {
   "cell_type": "markdown",
   "id": "433cf25b",
   "metadata": {},
   "source": [
    "---\n",
    "# Ridge Regression Model"
   ]
  },
  {
   "cell_type": "code",
   "execution_count": 19,
   "id": "2ed04cbe",
   "metadata": {},
   "outputs": [
    {
     "data": {
      "text/html": [
       "<style>#sk-container-id-6 {color: black;background-color: white;}#sk-container-id-6 pre{padding: 0;}#sk-container-id-6 div.sk-toggleable {background-color: white;}#sk-container-id-6 label.sk-toggleable__label {cursor: pointer;display: block;width: 100%;margin-bottom: 0;padding: 0.3em;box-sizing: border-box;text-align: center;}#sk-container-id-6 label.sk-toggleable__label-arrow:before {content: \"▸\";float: left;margin-right: 0.25em;color: #696969;}#sk-container-id-6 label.sk-toggleable__label-arrow:hover:before {color: black;}#sk-container-id-6 div.sk-estimator:hover label.sk-toggleable__label-arrow:before {color: black;}#sk-container-id-6 div.sk-toggleable__content {max-height: 0;max-width: 0;overflow: hidden;text-align: left;background-color: #f0f8ff;}#sk-container-id-6 div.sk-toggleable__content pre {margin: 0.2em;color: black;border-radius: 0.25em;background-color: #f0f8ff;}#sk-container-id-6 input.sk-toggleable__control:checked~div.sk-toggleable__content {max-height: 200px;max-width: 100%;overflow: auto;}#sk-container-id-6 input.sk-toggleable__control:checked~label.sk-toggleable__label-arrow:before {content: \"▾\";}#sk-container-id-6 div.sk-estimator input.sk-toggleable__control:checked~label.sk-toggleable__label {background-color: #d4ebff;}#sk-container-id-6 div.sk-label input.sk-toggleable__control:checked~label.sk-toggleable__label {background-color: #d4ebff;}#sk-container-id-6 input.sk-hidden--visually {border: 0;clip: rect(1px 1px 1px 1px);clip: rect(1px, 1px, 1px, 1px);height: 1px;margin: -1px;overflow: hidden;padding: 0;position: absolute;width: 1px;}#sk-container-id-6 div.sk-estimator {font-family: monospace;background-color: #f0f8ff;border: 1px dotted black;border-radius: 0.25em;box-sizing: border-box;margin-bottom: 0.5em;}#sk-container-id-6 div.sk-estimator:hover {background-color: #d4ebff;}#sk-container-id-6 div.sk-parallel-item::after {content: \"\";width: 100%;border-bottom: 1px solid gray;flex-grow: 1;}#sk-container-id-6 div.sk-label:hover label.sk-toggleable__label {background-color: #d4ebff;}#sk-container-id-6 div.sk-serial::before {content: \"\";position: absolute;border-left: 1px solid gray;box-sizing: border-box;top: 0;bottom: 0;left: 50%;z-index: 0;}#sk-container-id-6 div.sk-serial {display: flex;flex-direction: column;align-items: center;background-color: white;padding-right: 0.2em;padding-left: 0.2em;position: relative;}#sk-container-id-6 div.sk-item {position: relative;z-index: 1;}#sk-container-id-6 div.sk-parallel {display: flex;align-items: stretch;justify-content: center;background-color: white;position: relative;}#sk-container-id-6 div.sk-item::before, #sk-container-id-6 div.sk-parallel-item::before {content: \"\";position: absolute;border-left: 1px solid gray;box-sizing: border-box;top: 0;bottom: 0;left: 50%;z-index: -1;}#sk-container-id-6 div.sk-parallel-item {display: flex;flex-direction: column;z-index: 1;position: relative;background-color: white;}#sk-container-id-6 div.sk-parallel-item:first-child::after {align-self: flex-end;width: 50%;}#sk-container-id-6 div.sk-parallel-item:last-child::after {align-self: flex-start;width: 50%;}#sk-container-id-6 div.sk-parallel-item:only-child::after {width: 0;}#sk-container-id-6 div.sk-dashed-wrapped {border: 1px dashed gray;margin: 0 0.4em 0.5em 0.4em;box-sizing: border-box;padding-bottom: 0.4em;background-color: white;}#sk-container-id-6 div.sk-label label {font-family: monospace;font-weight: bold;display: inline-block;line-height: 1.2em;}#sk-container-id-6 div.sk-label-container {text-align: center;}#sk-container-id-6 div.sk-container {/* jupyter's `normalize.less` sets `[hidden] { display: none; }` but bootstrap.min.css set `[hidden] { display: none !important; }` so we also need the `!important` here to be able to override the default hidden behavior on the sphinx rendered scikit-learn.org. See: https://github.com/scikit-learn/scikit-learn/issues/21755 */display: inline-block !important;position: relative;}#sk-container-id-6 div.sk-text-repr-fallback {display: none;}</style><div id=\"sk-container-id-6\" class=\"sk-top-container\"><div class=\"sk-text-repr-fallback\"><pre>GridSearchCV(cv=5, estimator=Ridge(),\n",
       "             param_grid={&#x27;alpha&#x27;: [1, 10, 30, 50], &#x27;tol&#x27;: [0.5, 0.1, 0.001]})</pre><b>In a Jupyter environment, please rerun this cell to show the HTML representation or trust the notebook. <br />On GitHub, the HTML representation is unable to render, please try loading this page with nbviewer.org.</b></div><div class=\"sk-container\" hidden><div class=\"sk-item sk-dashed-wrapped\"><div class=\"sk-label-container\"><div class=\"sk-label sk-toggleable\"><input class=\"sk-toggleable__control sk-hidden--visually\" id=\"sk-estimator-id-14\" type=\"checkbox\" ><label for=\"sk-estimator-id-14\" class=\"sk-toggleable__label sk-toggleable__label-arrow\">GridSearchCV</label><div class=\"sk-toggleable__content\"><pre>GridSearchCV(cv=5, estimator=Ridge(),\n",
       "             param_grid={&#x27;alpha&#x27;: [1, 10, 30, 50], &#x27;tol&#x27;: [0.5, 0.1, 0.001]})</pre></div></div></div><div class=\"sk-parallel\"><div class=\"sk-parallel-item\"><div class=\"sk-item\"><div class=\"sk-label-container\"><div class=\"sk-label sk-toggleable\"><input class=\"sk-toggleable__control sk-hidden--visually\" id=\"sk-estimator-id-15\" type=\"checkbox\" ><label for=\"sk-estimator-id-15\" class=\"sk-toggleable__label sk-toggleable__label-arrow\">estimator: Ridge</label><div class=\"sk-toggleable__content\"><pre>Ridge()</pre></div></div></div><div class=\"sk-serial\"><div class=\"sk-item\"><div class=\"sk-estimator sk-toggleable\"><input class=\"sk-toggleable__control sk-hidden--visually\" id=\"sk-estimator-id-16\" type=\"checkbox\" ><label for=\"sk-estimator-id-16\" class=\"sk-toggleable__label sk-toggleable__label-arrow\">Ridge</label><div class=\"sk-toggleable__content\"><pre>Ridge()</pre></div></div></div></div></div></div></div></div></div></div>"
      ],
      "text/plain": [
       "GridSearchCV(cv=5, estimator=Ridge(),\n",
       "             param_grid={'alpha': [1, 10, 30, 50], 'tol': [0.5, 0.1, 0.001]})"
      ]
     },
     "execution_count": 19,
     "metadata": {},
     "output_type": "execute_result"
    }
   ],
   "source": [
    "ridge=Ridge()\n",
    "\n",
    "#grid search\n",
    "grid_values = {\n",
    "    'tol':[.5, .1, 1e-3],\n",
    "    'alpha':[1,10, 30, 50]\n",
    "}\n",
    "ridge_gridsearch = GridSearchCV(ridge, param_grid = grid_values, cv=5)\n",
    "ridge_gridsearch.fit(X_train, y_train.values.ravel())"
   ]
  },
  {
   "cell_type": "code",
   "execution_count": 20,
   "id": "a7eeda17",
   "metadata": {},
   "outputs": [
    {
     "data": {
      "text/html": [
       "<div>\n",
       "<style scoped>\n",
       "    .dataframe tbody tr th:only-of-type {\n",
       "        vertical-align: middle;\n",
       "    }\n",
       "\n",
       "    .dataframe tbody tr th {\n",
       "        vertical-align: top;\n",
       "    }\n",
       "\n",
       "    .dataframe thead th {\n",
       "        text-align: right;\n",
       "    }\n",
       "</style>\n",
       "<table border=\"1\" class=\"dataframe\">\n",
       "  <thead>\n",
       "    <tr style=\"text-align: right;\">\n",
       "      <th></th>\n",
       "      <th>mean_fit_time</th>\n",
       "      <th>std_fit_time</th>\n",
       "      <th>mean_score_time</th>\n",
       "      <th>std_score_time</th>\n",
       "      <th>param_alpha</th>\n",
       "      <th>param_tol</th>\n",
       "      <th>params</th>\n",
       "      <th>split0_test_score</th>\n",
       "      <th>split1_test_score</th>\n",
       "      <th>split2_test_score</th>\n",
       "      <th>split3_test_score</th>\n",
       "      <th>split4_test_score</th>\n",
       "      <th>mean_test_score</th>\n",
       "      <th>std_test_score</th>\n",
       "      <th>rank_test_score</th>\n",
       "    </tr>\n",
       "  </thead>\n",
       "  <tbody>\n",
       "    <tr>\n",
       "      <th>6</th>\n",
       "      <td>0.045168</td>\n",
       "      <td>0.000081</td>\n",
       "      <td>0.004446</td>\n",
       "      <td>0.000019</td>\n",
       "      <td>30</td>\n",
       "      <td>0.5</td>\n",
       "      <td>{'alpha': 30, 'tol': 0.5}</td>\n",
       "      <td>0.392349</td>\n",
       "      <td>0.385600</td>\n",
       "      <td>0.386062</td>\n",
       "      <td>0.395624</td>\n",
       "      <td>0.392537</td>\n",
       "      <td>0.390434</td>\n",
       "      <td>0.003937</td>\n",
       "      <td>1</td>\n",
       "    </tr>\n",
       "    <tr>\n",
       "      <th>7</th>\n",
       "      <td>0.045026</td>\n",
       "      <td>0.000139</td>\n",
       "      <td>0.004443</td>\n",
       "      <td>0.000013</td>\n",
       "      <td>30</td>\n",
       "      <td>0.1</td>\n",
       "      <td>{'alpha': 30, 'tol': 0.1}</td>\n",
       "      <td>0.392349</td>\n",
       "      <td>0.385600</td>\n",
       "      <td>0.386062</td>\n",
       "      <td>0.395624</td>\n",
       "      <td>0.392537</td>\n",
       "      <td>0.390434</td>\n",
       "      <td>0.003937</td>\n",
       "      <td>1</td>\n",
       "    </tr>\n",
       "    <tr>\n",
       "      <th>8</th>\n",
       "      <td>0.045098</td>\n",
       "      <td>0.000023</td>\n",
       "      <td>0.004454</td>\n",
       "      <td>0.000027</td>\n",
       "      <td>30</td>\n",
       "      <td>0.001</td>\n",
       "      <td>{'alpha': 30, 'tol': 0.001}</td>\n",
       "      <td>0.392349</td>\n",
       "      <td>0.385600</td>\n",
       "      <td>0.386062</td>\n",
       "      <td>0.395624</td>\n",
       "      <td>0.392537</td>\n",
       "      <td>0.390434</td>\n",
       "      <td>0.003937</td>\n",
       "      <td>1</td>\n",
       "    </tr>\n",
       "    <tr>\n",
       "      <th>3</th>\n",
       "      <td>0.045851</td>\n",
       "      <td>0.000371</td>\n",
       "      <td>0.004580</td>\n",
       "      <td>0.000026</td>\n",
       "      <td>10</td>\n",
       "      <td>0.5</td>\n",
       "      <td>{'alpha': 10, 'tol': 0.5}</td>\n",
       "      <td>0.392349</td>\n",
       "      <td>0.385601</td>\n",
       "      <td>0.386060</td>\n",
       "      <td>0.395616</td>\n",
       "      <td>0.392538</td>\n",
       "      <td>0.390433</td>\n",
       "      <td>0.003935</td>\n",
       "      <td>4</td>\n",
       "    </tr>\n",
       "    <tr>\n",
       "      <th>4</th>\n",
       "      <td>0.046564</td>\n",
       "      <td>0.001639</td>\n",
       "      <td>0.004587</td>\n",
       "      <td>0.000012</td>\n",
       "      <td>10</td>\n",
       "      <td>0.1</td>\n",
       "      <td>{'alpha': 10, 'tol': 0.1}</td>\n",
       "      <td>0.392349</td>\n",
       "      <td>0.385601</td>\n",
       "      <td>0.386060</td>\n",
       "      <td>0.395616</td>\n",
       "      <td>0.392538</td>\n",
       "      <td>0.390433</td>\n",
       "      <td>0.003935</td>\n",
       "      <td>4</td>\n",
       "    </tr>\n",
       "  </tbody>\n",
       "</table>\n",
       "</div>"
      ],
      "text/plain": [
       "   mean_fit_time  std_fit_time  mean_score_time  std_score_time param_alpha  \\\n",
       "6       0.045168      0.000081         0.004446        0.000019          30   \n",
       "7       0.045026      0.000139         0.004443        0.000013          30   \n",
       "8       0.045098      0.000023         0.004454        0.000027          30   \n",
       "3       0.045851      0.000371         0.004580        0.000026          10   \n",
       "4       0.046564      0.001639         0.004587        0.000012          10   \n",
       "\n",
       "  param_tol                       params  split0_test_score  \\\n",
       "6       0.5    {'alpha': 30, 'tol': 0.5}           0.392349   \n",
       "7       0.1    {'alpha': 30, 'tol': 0.1}           0.392349   \n",
       "8     0.001  {'alpha': 30, 'tol': 0.001}           0.392349   \n",
       "3       0.5    {'alpha': 10, 'tol': 0.5}           0.392349   \n",
       "4       0.1    {'alpha': 10, 'tol': 0.1}           0.392349   \n",
       "\n",
       "   split1_test_score  split2_test_score  split3_test_score  split4_test_score  \\\n",
       "6           0.385600           0.386062           0.395624           0.392537   \n",
       "7           0.385600           0.386062           0.395624           0.392537   \n",
       "8           0.385600           0.386062           0.395624           0.392537   \n",
       "3           0.385601           0.386060           0.395616           0.392538   \n",
       "4           0.385601           0.386060           0.395616           0.392538   \n",
       "\n",
       "   mean_test_score  std_test_score  rank_test_score  \n",
       "6         0.390434        0.003937                1  \n",
       "7         0.390434        0.003937                1  \n",
       "8         0.390434        0.003937                1  \n",
       "3         0.390433        0.003935                4  \n",
       "4         0.390433        0.003935                4  "
      ]
     },
     "execution_count": 20,
     "metadata": {},
     "output_type": "execute_result"
    }
   ],
   "source": [
    "#grid search CV results\n",
    "pd.DataFrame(ridge_gridsearch.cv_results_).sort_values(by='rank_test_score').head()"
   ]
  },
  {
   "cell_type": "code",
   "execution_count": 59,
   "id": "32e2f4b5",
   "metadata": {},
   "outputs": [
    {
     "data": {
      "text/plain": [
       "0.3907456401873586"
      ]
     },
     "execution_count": 59,
     "metadata": {},
     "output_type": "execute_result"
    }
   ],
   "source": [
    "ridge = Ridge(alpha=30,tol=.1)\n",
    "ridge.fit(X_train,y_train)\n",
    "ridge.score(X_train,y_train)"
   ]
  },
  {
   "cell_type": "code",
   "execution_count": 60,
   "id": "93ef43b2",
   "metadata": {},
   "outputs": [
    {
     "data": {
      "text/plain": [
       "0.39597338615300426"
      ]
     },
     "execution_count": 60,
     "metadata": {},
     "output_type": "execute_result"
    }
   ],
   "source": [
    "ridge.score(X_test,y_test)"
   ]
  },
  {
   "cell_type": "code",
   "execution_count": 142,
   "id": "c87fee1b",
   "metadata": {},
   "outputs": [
    {
     "name": "stdout",
     "output_type": "stream",
     "text": [
      "Avg days off schedule\n"
     ]
    },
    {
     "data": {
      "text/plain": [
       "0.9542084187534727"
      ]
     },
     "execution_count": 142,
     "metadata": {},
     "output_type": "execute_result"
    }
   ],
   "source": [
    "print(\"Avg days off schedule\")\n",
    "ridge_pred = np.round(ridge.predict(X_test))\n",
    "np.mean(np.abs(ridge_pred - y_test))"
   ]
  },
  {
   "cell_type": "code",
   "execution_count": 62,
   "id": "5a8fa632",
   "metadata": {
    "scrolled": true
   },
   "outputs": [
    {
     "name": "stdout",
     "output_type": "stream",
     "text": [
      "Accuracy\n"
     ]
    },
    {
     "data": {
      "text/plain": [
       "0.3629988695802119"
      ]
     },
     "execution_count": 62,
     "metadata": {},
     "output_type": "execute_result"
    }
   ],
   "source": [
    "print(\"Accuracy\")\n",
    "(ridge_pred == y_test).mean()"
   ]
  },
  {
   "cell_type": "code",
   "execution_count": 66,
   "id": "5036c597",
   "metadata": {},
   "outputs": [
    {
     "name": "stdout",
     "output_type": "stream",
     "text": [
      "Counter({4.0: 41360, 2.0: 7985, 0.0: 1705, 1.0: 1143})\n",
      "Counter({2: 16196, 6: 8345, 3: 8333, 4: 8299, 5: 8172, 0: 1521, 1: 1327})\n"
     ]
    }
   ],
   "source": [
    "print(Counter(ridge_pred))\n",
    "print(Counter(y_test))"
   ]
  },
  {
   "cell_type": "markdown",
   "id": "bbec4f2a",
   "metadata": {},
   "source": [
    "- slight improvement over the linear regression model, but distribution is off. Model over predicts 4 days and doesn't predict any deliveries taking 3,5,or 6 days. There are 16,500+ orders taking 3,5,6 days that aren't predicted.\n",
    "- seems like the model is accurate for orders taking 0,1,2 days, and then just guess 4 for the rest of the orders becuase thats in the middle of the spread."
   ]
  },
  {
   "cell_type": "markdown",
   "id": "b701a9a9",
   "metadata": {},
   "source": [
    "---\n",
    "# Lasso Model"
   ]
  },
  {
   "cell_type": "code",
   "execution_count": 23,
   "id": "f3ed7526",
   "metadata": {},
   "outputs": [
    {
     "data": {
      "text/html": [
       "<style>#sk-container-id-7 {color: black;background-color: white;}#sk-container-id-7 pre{padding: 0;}#sk-container-id-7 div.sk-toggleable {background-color: white;}#sk-container-id-7 label.sk-toggleable__label {cursor: pointer;display: block;width: 100%;margin-bottom: 0;padding: 0.3em;box-sizing: border-box;text-align: center;}#sk-container-id-7 label.sk-toggleable__label-arrow:before {content: \"▸\";float: left;margin-right: 0.25em;color: #696969;}#sk-container-id-7 label.sk-toggleable__label-arrow:hover:before {color: black;}#sk-container-id-7 div.sk-estimator:hover label.sk-toggleable__label-arrow:before {color: black;}#sk-container-id-7 div.sk-toggleable__content {max-height: 0;max-width: 0;overflow: hidden;text-align: left;background-color: #f0f8ff;}#sk-container-id-7 div.sk-toggleable__content pre {margin: 0.2em;color: black;border-radius: 0.25em;background-color: #f0f8ff;}#sk-container-id-7 input.sk-toggleable__control:checked~div.sk-toggleable__content {max-height: 200px;max-width: 100%;overflow: auto;}#sk-container-id-7 input.sk-toggleable__control:checked~label.sk-toggleable__label-arrow:before {content: \"▾\";}#sk-container-id-7 div.sk-estimator input.sk-toggleable__control:checked~label.sk-toggleable__label {background-color: #d4ebff;}#sk-container-id-7 div.sk-label input.sk-toggleable__control:checked~label.sk-toggleable__label {background-color: #d4ebff;}#sk-container-id-7 input.sk-hidden--visually {border: 0;clip: rect(1px 1px 1px 1px);clip: rect(1px, 1px, 1px, 1px);height: 1px;margin: -1px;overflow: hidden;padding: 0;position: absolute;width: 1px;}#sk-container-id-7 div.sk-estimator {font-family: monospace;background-color: #f0f8ff;border: 1px dotted black;border-radius: 0.25em;box-sizing: border-box;margin-bottom: 0.5em;}#sk-container-id-7 div.sk-estimator:hover {background-color: #d4ebff;}#sk-container-id-7 div.sk-parallel-item::after {content: \"\";width: 100%;border-bottom: 1px solid gray;flex-grow: 1;}#sk-container-id-7 div.sk-label:hover label.sk-toggleable__label {background-color: #d4ebff;}#sk-container-id-7 div.sk-serial::before {content: \"\";position: absolute;border-left: 1px solid gray;box-sizing: border-box;top: 0;bottom: 0;left: 50%;z-index: 0;}#sk-container-id-7 div.sk-serial {display: flex;flex-direction: column;align-items: center;background-color: white;padding-right: 0.2em;padding-left: 0.2em;position: relative;}#sk-container-id-7 div.sk-item {position: relative;z-index: 1;}#sk-container-id-7 div.sk-parallel {display: flex;align-items: stretch;justify-content: center;background-color: white;position: relative;}#sk-container-id-7 div.sk-item::before, #sk-container-id-7 div.sk-parallel-item::before {content: \"\";position: absolute;border-left: 1px solid gray;box-sizing: border-box;top: 0;bottom: 0;left: 50%;z-index: -1;}#sk-container-id-7 div.sk-parallel-item {display: flex;flex-direction: column;z-index: 1;position: relative;background-color: white;}#sk-container-id-7 div.sk-parallel-item:first-child::after {align-self: flex-end;width: 50%;}#sk-container-id-7 div.sk-parallel-item:last-child::after {align-self: flex-start;width: 50%;}#sk-container-id-7 div.sk-parallel-item:only-child::after {width: 0;}#sk-container-id-7 div.sk-dashed-wrapped {border: 1px dashed gray;margin: 0 0.4em 0.5em 0.4em;box-sizing: border-box;padding-bottom: 0.4em;background-color: white;}#sk-container-id-7 div.sk-label label {font-family: monospace;font-weight: bold;display: inline-block;line-height: 1.2em;}#sk-container-id-7 div.sk-label-container {text-align: center;}#sk-container-id-7 div.sk-container {/* jupyter's `normalize.less` sets `[hidden] { display: none; }` but bootstrap.min.css set `[hidden] { display: none !important; }` so we also need the `!important` here to be able to override the default hidden behavior on the sphinx rendered scikit-learn.org. See: https://github.com/scikit-learn/scikit-learn/issues/21755 */display: inline-block !important;position: relative;}#sk-container-id-7 div.sk-text-repr-fallback {display: none;}</style><div id=\"sk-container-id-7\" class=\"sk-top-container\"><div class=\"sk-text-repr-fallback\"><pre>GridSearchCV(cv=5, estimator=Lasso(),\n",
       "             param_grid={&#x27;alpha&#x27;: [0.0005, 0.001, 0.01, 0.1],\n",
       "                         &#x27;tol&#x27;: [2, 1, 0.5, 0.1, 0.01]})</pre><b>In a Jupyter environment, please rerun this cell to show the HTML representation or trust the notebook. <br />On GitHub, the HTML representation is unable to render, please try loading this page with nbviewer.org.</b></div><div class=\"sk-container\" hidden><div class=\"sk-item sk-dashed-wrapped\"><div class=\"sk-label-container\"><div class=\"sk-label sk-toggleable\"><input class=\"sk-toggleable__control sk-hidden--visually\" id=\"sk-estimator-id-17\" type=\"checkbox\" ><label for=\"sk-estimator-id-17\" class=\"sk-toggleable__label sk-toggleable__label-arrow\">GridSearchCV</label><div class=\"sk-toggleable__content\"><pre>GridSearchCV(cv=5, estimator=Lasso(),\n",
       "             param_grid={&#x27;alpha&#x27;: [0.0005, 0.001, 0.01, 0.1],\n",
       "                         &#x27;tol&#x27;: [2, 1, 0.5, 0.1, 0.01]})</pre></div></div></div><div class=\"sk-parallel\"><div class=\"sk-parallel-item\"><div class=\"sk-item\"><div class=\"sk-label-container\"><div class=\"sk-label sk-toggleable\"><input class=\"sk-toggleable__control sk-hidden--visually\" id=\"sk-estimator-id-18\" type=\"checkbox\" ><label for=\"sk-estimator-id-18\" class=\"sk-toggleable__label sk-toggleable__label-arrow\">estimator: Lasso</label><div class=\"sk-toggleable__content\"><pre>Lasso()</pre></div></div></div><div class=\"sk-serial\"><div class=\"sk-item\"><div class=\"sk-estimator sk-toggleable\"><input class=\"sk-toggleable__control sk-hidden--visually\" id=\"sk-estimator-id-19\" type=\"checkbox\" ><label for=\"sk-estimator-id-19\" class=\"sk-toggleable__label sk-toggleable__label-arrow\">Lasso</label><div class=\"sk-toggleable__content\"><pre>Lasso()</pre></div></div></div></div></div></div></div></div></div></div>"
      ],
      "text/plain": [
       "GridSearchCV(cv=5, estimator=Lasso(),\n",
       "             param_grid={'alpha': [0.0005, 0.001, 0.01, 0.1],\n",
       "                         'tol': [2, 1, 0.5, 0.1, 0.01]})"
      ]
     },
     "execution_count": 23,
     "metadata": {},
     "output_type": "execute_result"
    }
   ],
   "source": [
    "lasso=Lasso()\n",
    "\n",
    "#grid search\n",
    "grid_values = {\n",
    "    'tol':[ 2, 1,.5, .1, .01],\n",
    "    'alpha':[.0005, .001, .01, .1]\n",
    "}\n",
    "lasso_gridsearch = GridSearchCV(lasso, param_grid = grid_values, cv=5)\n",
    "lasso_gridsearch.fit(X_train, y_train.values.ravel())"
   ]
  },
  {
   "cell_type": "code",
   "execution_count": 25,
   "id": "e7b486fd",
   "metadata": {
    "scrolled": false
   },
   "outputs": [
    {
     "data": {
      "text/html": [
       "<div>\n",
       "<style scoped>\n",
       "    .dataframe tbody tr th:only-of-type {\n",
       "        vertical-align: middle;\n",
       "    }\n",
       "\n",
       "    .dataframe tbody tr th {\n",
       "        vertical-align: top;\n",
       "    }\n",
       "\n",
       "    .dataframe thead th {\n",
       "        text-align: right;\n",
       "    }\n",
       "</style>\n",
       "<table border=\"1\" class=\"dataframe\">\n",
       "  <thead>\n",
       "    <tr style=\"text-align: right;\">\n",
       "      <th></th>\n",
       "      <th>mean_fit_time</th>\n",
       "      <th>std_fit_time</th>\n",
       "      <th>mean_score_time</th>\n",
       "      <th>std_score_time</th>\n",
       "      <th>param_alpha</th>\n",
       "      <th>param_tol</th>\n",
       "      <th>params</th>\n",
       "      <th>split0_test_score</th>\n",
       "      <th>split1_test_score</th>\n",
       "      <th>split2_test_score</th>\n",
       "      <th>split3_test_score</th>\n",
       "      <th>split4_test_score</th>\n",
       "      <th>mean_test_score</th>\n",
       "      <th>std_test_score</th>\n",
       "      <th>rank_test_score</th>\n",
       "    </tr>\n",
       "  </thead>\n",
       "  <tbody>\n",
       "    <tr>\n",
       "      <th>6</th>\n",
       "      <td>0.058466</td>\n",
       "      <td>0.000999</td>\n",
       "      <td>0.005536</td>\n",
       "      <td>0.000109</td>\n",
       "      <td>0.001</td>\n",
       "      <td>1</td>\n",
       "      <td>{'alpha': 0.001, 'tol': 1}</td>\n",
       "      <td>0.392458</td>\n",
       "      <td>0.385699</td>\n",
       "      <td>0.386051</td>\n",
       "      <td>0.395856</td>\n",
       "      <td>0.392540</td>\n",
       "      <td>0.390521</td>\n",
       "      <td>0.003988</td>\n",
       "      <td>1</td>\n",
       "    </tr>\n",
       "    <tr>\n",
       "      <th>7</th>\n",
       "      <td>0.060532</td>\n",
       "      <td>0.000798</td>\n",
       "      <td>0.005660</td>\n",
       "      <td>0.000178</td>\n",
       "      <td>0.001</td>\n",
       "      <td>0.5</td>\n",
       "      <td>{'alpha': 0.001, 'tol': 0.5}</td>\n",
       "      <td>0.392458</td>\n",
       "      <td>0.385699</td>\n",
       "      <td>0.386051</td>\n",
       "      <td>0.395856</td>\n",
       "      <td>0.392540</td>\n",
       "      <td>0.390521</td>\n",
       "      <td>0.003988</td>\n",
       "      <td>1</td>\n",
       "    </tr>\n",
       "    <tr>\n",
       "      <th>8</th>\n",
       "      <td>0.064650</td>\n",
       "      <td>0.001829</td>\n",
       "      <td>0.006201</td>\n",
       "      <td>0.000311</td>\n",
       "      <td>0.001</td>\n",
       "      <td>0.1</td>\n",
       "      <td>{'alpha': 0.001, 'tol': 0.1}</td>\n",
       "      <td>0.392436</td>\n",
       "      <td>0.385675</td>\n",
       "      <td>0.386066</td>\n",
       "      <td>0.395871</td>\n",
       "      <td>0.392541</td>\n",
       "      <td>0.390518</td>\n",
       "      <td>0.003993</td>\n",
       "      <td>3</td>\n",
       "    </tr>\n",
       "    <tr>\n",
       "      <th>9</th>\n",
       "      <td>0.068869</td>\n",
       "      <td>0.006180</td>\n",
       "      <td>0.006586</td>\n",
       "      <td>0.000487</td>\n",
       "      <td>0.001</td>\n",
       "      <td>0.01</td>\n",
       "      <td>{'alpha': 0.001, 'tol': 0.01}</td>\n",
       "      <td>0.392436</td>\n",
       "      <td>0.385675</td>\n",
       "      <td>0.386066</td>\n",
       "      <td>0.395871</td>\n",
       "      <td>0.392541</td>\n",
       "      <td>0.390518</td>\n",
       "      <td>0.003993</td>\n",
       "      <td>4</td>\n",
       "    </tr>\n",
       "    <tr>\n",
       "      <th>4</th>\n",
       "      <td>0.073921</td>\n",
       "      <td>0.006368</td>\n",
       "      <td>0.006707</td>\n",
       "      <td>0.000366</td>\n",
       "      <td>0.0005</td>\n",
       "      <td>0.01</td>\n",
       "      <td>{'alpha': 0.0005, 'tol': 0.01}</td>\n",
       "      <td>0.392442</td>\n",
       "      <td>0.385671</td>\n",
       "      <td>0.386080</td>\n",
       "      <td>0.395810</td>\n",
       "      <td>0.392559</td>\n",
       "      <td>0.390512</td>\n",
       "      <td>0.003976</td>\n",
       "      <td>5</td>\n",
       "    </tr>\n",
       "  </tbody>\n",
       "</table>\n",
       "</div>"
      ],
      "text/plain": [
       "   mean_fit_time  std_fit_time  mean_score_time  std_score_time param_alpha  \\\n",
       "6       0.058466      0.000999         0.005536        0.000109       0.001   \n",
       "7       0.060532      0.000798         0.005660        0.000178       0.001   \n",
       "8       0.064650      0.001829         0.006201        0.000311       0.001   \n",
       "9       0.068869      0.006180         0.006586        0.000487       0.001   \n",
       "4       0.073921      0.006368         0.006707        0.000366      0.0005   \n",
       "\n",
       "  param_tol                          params  split0_test_score  \\\n",
       "6         1      {'alpha': 0.001, 'tol': 1}           0.392458   \n",
       "7       0.5    {'alpha': 0.001, 'tol': 0.5}           0.392458   \n",
       "8       0.1    {'alpha': 0.001, 'tol': 0.1}           0.392436   \n",
       "9      0.01   {'alpha': 0.001, 'tol': 0.01}           0.392436   \n",
       "4      0.01  {'alpha': 0.0005, 'tol': 0.01}           0.392442   \n",
       "\n",
       "   split1_test_score  split2_test_score  split3_test_score  split4_test_score  \\\n",
       "6           0.385699           0.386051           0.395856           0.392540   \n",
       "7           0.385699           0.386051           0.395856           0.392540   \n",
       "8           0.385675           0.386066           0.395871           0.392541   \n",
       "9           0.385675           0.386066           0.395871           0.392541   \n",
       "4           0.385671           0.386080           0.395810           0.392559   \n",
       "\n",
       "   mean_test_score  std_test_score  rank_test_score  \n",
       "6         0.390521        0.003988                1  \n",
       "7         0.390521        0.003988                1  \n",
       "8         0.390518        0.003993                3  \n",
       "9         0.390518        0.003993                4  \n",
       "4         0.390512        0.003976                5  "
      ]
     },
     "execution_count": 25,
     "metadata": {},
     "output_type": "execute_result"
    }
   ],
   "source": [
    "#grid search CV results\n",
    "pd.DataFrame(lasso_gridsearch.cv_results_).sort_values(by='rank_test_score').head()"
   ]
  },
  {
   "cell_type": "code",
   "execution_count": 67,
   "id": "abf3dbbb",
   "metadata": {},
   "outputs": [
    {
     "data": {
      "text/plain": [
       "0.3906974480544174"
      ]
     },
     "execution_count": 67,
     "metadata": {},
     "output_type": "execute_result"
    }
   ],
   "source": [
    "lasso=Lasso(alpha=.001,tol=1)\n",
    "lasso.fit(X_train,y_train)\n",
    "lasso.score(X_train,y_train)"
   ]
  },
  {
   "cell_type": "code",
   "execution_count": 68,
   "id": "934e58d3",
   "metadata": {},
   "outputs": [
    {
     "data": {
      "text/plain": [
       "0.3960113459938237"
      ]
     },
     "execution_count": 68,
     "metadata": {},
     "output_type": "execute_result"
    }
   ],
   "source": [
    "lasso.score(X_test,y_test)"
   ]
  },
  {
   "cell_type": "code",
   "execution_count": 140,
   "id": "87502392",
   "metadata": {},
   "outputs": [
    {
     "name": "stdout",
     "output_type": "stream",
     "text": [
      "Avg days off schedule\n"
     ]
    },
    {
     "data": {
      "text/plain": [
       "0.9522924530109401"
      ]
     },
     "execution_count": 140,
     "metadata": {},
     "output_type": "execute_result"
    }
   ],
   "source": [
    "print(\"Avg days off schedule\")\n",
    "lasso_pred = np.round(lasso.predict(X_test))\n",
    "np.mean(np.abs(lasso_pred - y_test))"
   ]
  },
  {
   "cell_type": "code",
   "execution_count": 85,
   "id": "29e7a207",
   "metadata": {},
   "outputs": [
    {
     "name": "stdout",
     "output_type": "stream",
     "text": [
      "Accuracy\n"
     ]
    },
    {
     "data": {
      "text/plain": [
       "0.36491483532274444"
      ]
     },
     "execution_count": 85,
     "metadata": {},
     "output_type": "execute_result"
    }
   ],
   "source": [
    "print(\"Accuracy\")\n",
    "(lasso_pred == y_test).mean()"
   ]
  },
  {
   "cell_type": "code",
   "execution_count": 144,
   "id": "0ecf4014",
   "metadata": {},
   "outputs": [
    {
     "data": {
      "text/plain": [
       "Counter({4.0: 41360, 2.0: 7985, 0.0: 1607, 1.0: 1241})"
      ]
     },
     "execution_count": 144,
     "metadata": {},
     "output_type": "execute_result"
    }
   ],
   "source": [
    "Counter(lasso_pred)"
   ]
  },
  {
   "cell_type": "markdown",
   "id": "24894fa3",
   "metadata": {},
   "source": [
    "- further slight improvement on the ridge regression model, but again the model over predicts 4 day deliveries."
   ]
  },
  {
   "cell_type": "code",
   "execution_count": 147,
   "id": "3f8e98d1",
   "metadata": {},
   "outputs": [
    {
     "name": "stdout",
     "output_type": "stream",
     "text": [
      "Lasso model accuracy on deliveries over 2 days\n"
     ]
    },
    {
     "data": {
      "text/plain": [
       "0.25035446016471086"
      ]
     },
     "execution_count": 147,
     "metadata": {},
     "output_type": "execute_result"
    }
   ],
   "source": [
    "lasso_results = pd.DataFrame({'lasso prediction':lasso_pred,'real delivery days':y_test})\n",
    "lasso_results_low = lasso_results[lasso_results['real delivery days']>2]\n",
    "print('Lasso model accuracy on deliveries over 2 days')\n",
    "(lasso_results_low.iloc[:,0] == lasso_results_low.iloc[:,1]).mean()"
   ]
  },
  {
   "cell_type": "markdown",
   "id": "68dd13d4",
   "metadata": {},
   "source": [
    "- so the model is much better at predicting shorter delivery timesorders."
   ]
  },
  {
   "cell_type": "code",
   "execution_count": 151,
   "id": "82be70a5",
   "metadata": {
    "scrolled": true
   },
   "outputs": [
    {
     "data": {
      "text/html": [
       "<div>\n",
       "<style scoped>\n",
       "    .dataframe tbody tr th:only-of-type {\n",
       "        vertical-align: middle;\n",
       "    }\n",
       "\n",
       "    .dataframe tbody tr th {\n",
       "        vertical-align: top;\n",
       "    }\n",
       "\n",
       "    .dataframe thead th {\n",
       "        text-align: right;\n",
       "    }\n",
       "</style>\n",
       "<table border=\"1\" class=\"dataframe\">\n",
       "  <thead>\n",
       "    <tr style=\"text-align: right;\">\n",
       "      <th></th>\n",
       "      <th>lasso prediction</th>\n",
       "      <th>random forest prediction</th>\n",
       "      <th>ridge reg prediction</th>\n",
       "      <th>lin reg prediction</th>\n",
       "    </tr>\n",
       "    <tr>\n",
       "      <th>real delivery days</th>\n",
       "      <th></th>\n",
       "      <th></th>\n",
       "      <th></th>\n",
       "      <th></th>\n",
       "    </tr>\n",
       "  </thead>\n",
       "  <tbody>\n",
       "    <tr>\n",
       "      <th>0</th>\n",
       "      <td>1.000000</td>\n",
       "      <td>1.000000</td>\n",
       "      <td>0.999343</td>\n",
       "      <td>1.000000</td>\n",
       "    </tr>\n",
       "    <tr>\n",
       "      <th>1</th>\n",
       "      <td>0.935192</td>\n",
       "      <td>1.000000</td>\n",
       "      <td>0.860588</td>\n",
       "      <td>0.712133</td>\n",
       "    </tr>\n",
       "    <tr>\n",
       "      <th>2</th>\n",
       "      <td>0.493023</td>\n",
       "      <td>0.605026</td>\n",
       "      <td>0.493023</td>\n",
       "      <td>0.493023</td>\n",
       "    </tr>\n",
       "    <tr>\n",
       "      <th>3</th>\n",
       "      <td>0.000000</td>\n",
       "      <td>0.210008</td>\n",
       "      <td>0.000000</td>\n",
       "      <td>0.000000</td>\n",
       "    </tr>\n",
       "    <tr>\n",
       "      <th>4</th>\n",
       "      <td>1.000000</td>\n",
       "      <td>0.215568</td>\n",
       "      <td>1.000000</td>\n",
       "      <td>1.000000</td>\n",
       "    </tr>\n",
       "    <tr>\n",
       "      <th>5</th>\n",
       "      <td>0.000000</td>\n",
       "      <td>0.197014</td>\n",
       "      <td>0.000000</td>\n",
       "      <td>0.000000</td>\n",
       "    </tr>\n",
       "    <tr>\n",
       "      <th>6</th>\n",
       "      <td>0.000000</td>\n",
       "      <td>0.224086</td>\n",
       "      <td>0.000000</td>\n",
       "      <td>0.000000</td>\n",
       "    </tr>\n",
       "  </tbody>\n",
       "</table>\n",
       "</div>"
      ],
      "text/plain": [
       "                    lasso prediction  random forest prediction  \\\n",
       "real delivery days                                               \n",
       "0                           1.000000                  1.000000   \n",
       "1                           0.935192                  1.000000   \n",
       "2                           0.493023                  0.605026   \n",
       "3                           0.000000                  0.210008   \n",
       "4                           1.000000                  0.215568   \n",
       "5                           0.000000                  0.197014   \n",
       "6                           0.000000                  0.224086   \n",
       "\n",
       "                    ridge reg prediction  lin reg prediction  \n",
       "real delivery days                                            \n",
       "0                               0.999343            1.000000  \n",
       "1                               0.860588            0.712133  \n",
       "2                               0.493023            0.493023  \n",
       "3                               0.000000            0.000000  \n",
       "4                               1.000000            1.000000  \n",
       "5                               0.000000            0.000000  \n",
       "6                               0.000000            0.000000  "
      ]
     },
     "execution_count": 151,
     "metadata": {},
     "output_type": "execute_result"
    }
   ],
   "source": [
    "#exploring the distribution of prediciton accuracy for each model\n",
    "results_df = lasso_results.copy()\n",
    "results_df['random forest prediction'] = RFC_pred\n",
    "results_df['ridge reg prediction'] = ridge_pred\n",
    "results_df['lin reg prediction'] = LR_pred\n",
    "results_df = results_df.astype('int64')\n",
    "\n",
    "\n",
    "for i in [0,2,3,4]:\n",
    "    results_df.iloc[:,i] = (results_df.iloc[:,i]==results_df.iloc[:,1])\n",
    "    \n",
    "results_df.groupby('real delivery days').mean()"
   ]
  },
  {
   "cell_type": "markdown",
   "id": "f2da4ab2",
   "metadata": {},
   "source": [
    "- the regression models all predict 4 for any delivery 3 days or over, so they predict a 4 day deilvery woth 100% accuracy. A broken delivery time model is right 1 outta 4 times (on orders > 2 days)."
   ]
  },
  {
   "cell_type": "code",
   "execution_count": 168,
   "id": "47e14fe6",
   "metadata": {},
   "outputs": [
    {
     "data": {
      "text/html": [
       "<div>\n",
       "<style scoped>\n",
       "    .dataframe tbody tr th:only-of-type {\n",
       "        vertical-align: middle;\n",
       "    }\n",
       "\n",
       "    .dataframe tbody tr th {\n",
       "        vertical-align: top;\n",
       "    }\n",
       "\n",
       "    .dataframe thead th {\n",
       "        text-align: right;\n",
       "    }\n",
       "</style>\n",
       "<table border=\"1\" class=\"dataframe\">\n",
       "  <thead>\n",
       "    <tr style=\"text-align: right;\">\n",
       "      <th></th>\n",
       "      <th>lasso prediction</th>\n",
       "      <th>real delivery days</th>\n",
       "      <th>random forest prediction</th>\n",
       "      <th>ridge reg prediction</th>\n",
       "      <th>lin reg prediction</th>\n",
       "    </tr>\n",
       "  </thead>\n",
       "  <tbody>\n",
       "    <tr>\n",
       "      <th>134504</th>\n",
       "      <td>4</td>\n",
       "      <td>4</td>\n",
       "      <td>6</td>\n",
       "      <td>4</td>\n",
       "      <td>4</td>\n",
       "    </tr>\n",
       "    <tr>\n",
       "      <th>81448</th>\n",
       "      <td>4</td>\n",
       "      <td>4</td>\n",
       "      <td>5</td>\n",
       "      <td>4</td>\n",
       "      <td>4</td>\n",
       "    </tr>\n",
       "    <tr>\n",
       "      <th>172238</th>\n",
       "      <td>4</td>\n",
       "      <td>3</td>\n",
       "      <td>5</td>\n",
       "      <td>4</td>\n",
       "      <td>4</td>\n",
       "    </tr>\n",
       "    <tr>\n",
       "      <th>100186</th>\n",
       "      <td>2</td>\n",
       "      <td>2</td>\n",
       "      <td>2</td>\n",
       "      <td>2</td>\n",
       "      <td>2</td>\n",
       "    </tr>\n",
       "    <tr>\n",
       "      <th>168933</th>\n",
       "      <td>2</td>\n",
       "      <td>2</td>\n",
       "      <td>2</td>\n",
       "      <td>2</td>\n",
       "      <td>2</td>\n",
       "    </tr>\n",
       "    <tr>\n",
       "      <th>...</th>\n",
       "      <td>...</td>\n",
       "      <td>...</td>\n",
       "      <td>...</td>\n",
       "      <td>...</td>\n",
       "      <td>...</td>\n",
       "    </tr>\n",
       "    <tr>\n",
       "      <th>5501</th>\n",
       "      <td>2</td>\n",
       "      <td>2</td>\n",
       "      <td>2</td>\n",
       "      <td>2</td>\n",
       "      <td>2</td>\n",
       "    </tr>\n",
       "    <tr>\n",
       "      <th>143549</th>\n",
       "      <td>4</td>\n",
       "      <td>3</td>\n",
       "      <td>4</td>\n",
       "      <td>4</td>\n",
       "      <td>4</td>\n",
       "    </tr>\n",
       "    <tr>\n",
       "      <th>81170</th>\n",
       "      <td>4</td>\n",
       "      <td>4</td>\n",
       "      <td>5</td>\n",
       "      <td>4</td>\n",
       "      <td>4</td>\n",
       "    </tr>\n",
       "    <tr>\n",
       "      <th>50183</th>\n",
       "      <td>4</td>\n",
       "      <td>5</td>\n",
       "      <td>2</td>\n",
       "      <td>4</td>\n",
       "      <td>4</td>\n",
       "    </tr>\n",
       "    <tr>\n",
       "      <th>35724</th>\n",
       "      <td>4</td>\n",
       "      <td>2</td>\n",
       "      <td>4</td>\n",
       "      <td>4</td>\n",
       "      <td>4</td>\n",
       "    </tr>\n",
       "  </tbody>\n",
       "</table>\n",
       "<p>52193 rows × 5 columns</p>\n",
       "</div>"
      ],
      "text/plain": [
       "        lasso prediction  real delivery days  random forest prediction  \\\n",
       "134504                 4                   4                         6   \n",
       "81448                  4                   4                         5   \n",
       "172238                 4                   3                         5   \n",
       "100186                 2                   2                         2   \n",
       "168933                 2                   2                         2   \n",
       "...                  ...                 ...                       ...   \n",
       "5501                   2                   2                         2   \n",
       "143549                 4                   3                         4   \n",
       "81170                  4                   4                         5   \n",
       "50183                  4                   5                         2   \n",
       "35724                  4                   2                         4   \n",
       "\n",
       "        ridge reg prediction  lin reg prediction  \n",
       "134504                     4                   4  \n",
       "81448                      4                   4  \n",
       "172238                     4                   4  \n",
       "100186                     2                   2  \n",
       "168933                     2                   2  \n",
       "...                      ...                 ...  \n",
       "5501                       2                   2  \n",
       "143549                     4                   4  \n",
       "81170                      4                   4  \n",
       "50183                      4                   4  \n",
       "35724                      4                   4  \n",
       "\n",
       "[52193 rows x 5 columns]"
      ]
     },
     "execution_count": 168,
     "metadata": {},
     "output_type": "execute_result"
    }
   ],
   "source": [
    "results_df = lasso_results.copy()\n",
    "results_df['random forest prediction'] = RFC_pred\n",
    "results_df['ridge reg prediction'] = ridge_pred\n",
    "results_df['lin reg prediction'] = LR_pred\n",
    "results_df = results_df.astype('int64')\n",
    "results_df"
   ]
  },
  {
   "cell_type": "code",
   "execution_count": 170,
   "id": "01d99634",
   "metadata": {},
   "outputs": [
    {
     "data": {
      "text/html": [
       "<div>\n",
       "<style scoped>\n",
       "    .dataframe tbody tr th:only-of-type {\n",
       "        vertical-align: middle;\n",
       "    }\n",
       "\n",
       "    .dataframe tbody tr th {\n",
       "        vertical-align: top;\n",
       "    }\n",
       "\n",
       "    .dataframe thead th {\n",
       "        text-align: right;\n",
       "    }\n",
       "</style>\n",
       "<table border=\"1\" class=\"dataframe\">\n",
       "  <thead>\n",
       "    <tr style=\"text-align: right;\">\n",
       "      <th></th>\n",
       "      <th>real delivery days</th>\n",
       "      <th>random forest prediction</th>\n",
       "    </tr>\n",
       "  </thead>\n",
       "  <tbody>\n",
       "    <tr>\n",
       "      <th>134504</th>\n",
       "      <td>4</td>\n",
       "      <td>6</td>\n",
       "    </tr>\n",
       "    <tr>\n",
       "      <th>81448</th>\n",
       "      <td>4</td>\n",
       "      <td>5</td>\n",
       "    </tr>\n",
       "    <tr>\n",
       "      <th>172238</th>\n",
       "      <td>3</td>\n",
       "      <td>5</td>\n",
       "    </tr>\n",
       "    <tr>\n",
       "      <th>100186</th>\n",
       "      <td>2</td>\n",
       "      <td>2</td>\n",
       "    </tr>\n",
       "    <tr>\n",
       "      <th>168933</th>\n",
       "      <td>2</td>\n",
       "      <td>2</td>\n",
       "    </tr>\n",
       "    <tr>\n",
       "      <th>...</th>\n",
       "      <td>...</td>\n",
       "      <td>...</td>\n",
       "    </tr>\n",
       "    <tr>\n",
       "      <th>5501</th>\n",
       "      <td>2</td>\n",
       "      <td>2</td>\n",
       "    </tr>\n",
       "    <tr>\n",
       "      <th>143549</th>\n",
       "      <td>3</td>\n",
       "      <td>4</td>\n",
       "    </tr>\n",
       "    <tr>\n",
       "      <th>81170</th>\n",
       "      <td>4</td>\n",
       "      <td>5</td>\n",
       "    </tr>\n",
       "    <tr>\n",
       "      <th>50183</th>\n",
       "      <td>5</td>\n",
       "      <td>2</td>\n",
       "    </tr>\n",
       "    <tr>\n",
       "      <th>35724</th>\n",
       "      <td>2</td>\n",
       "      <td>4</td>\n",
       "    </tr>\n",
       "  </tbody>\n",
       "</table>\n",
       "<p>52193 rows × 2 columns</p>\n",
       "</div>"
      ],
      "text/plain": [
       "        real delivery days  random forest prediction\n",
       "134504                   4                         6\n",
       "81448                    4                         5\n",
       "172238                   3                         5\n",
       "100186                   2                         2\n",
       "168933                   2                         2\n",
       "...                    ...                       ...\n",
       "5501                     2                         2\n",
       "143549                   3                         4\n",
       "81170                    4                         5\n",
       "50183                    5                         2\n",
       "35724                    2                         4\n",
       "\n",
       "[52193 rows x 2 columns]"
      ]
     },
     "execution_count": 170,
     "metadata": {},
     "output_type": "execute_result"
    }
   ],
   "source": [
    "rfc_results_df=results_df[['real delivery days','random forest prediction']]\n",
    "rfc_results_df"
   ]
  },
  {
   "cell_type": "code",
   "execution_count": 167,
   "id": "1c5ee419",
   "metadata": {},
   "outputs": [
    {
     "data": {
      "text/plain": [
       "134504    False\n",
       "81448     False\n",
       "172238    False\n",
       "100186     True\n",
       "168933     True\n",
       "          ...  \n",
       "5501       True\n",
       "143549    False\n",
       "81170     False\n",
       "50183     False\n",
       "35724     False\n",
       "Length: 52193, dtype: bool"
      ]
     },
     "execution_count": 167,
     "metadata": {},
     "output_type": "execute_result"
    }
   ],
   "source": [
    "results_df['real delivery days']==results_df['random forest prediction']"
   ]
  },
  {
   "cell_type": "code",
   "execution_count": 175,
   "id": "3d3373d8",
   "metadata": {},
   "outputs": [
    {
     "data": {
      "text/html": [
       "<div>\n",
       "<style scoped>\n",
       "    .dataframe tbody tr th:only-of-type {\n",
       "        vertical-align: middle;\n",
       "    }\n",
       "\n",
       "    .dataframe tbody tr th {\n",
       "        vertical-align: top;\n",
       "    }\n",
       "\n",
       "    .dataframe thead th {\n",
       "        text-align: right;\n",
       "    }\n",
       "</style>\n",
       "<table border=\"1\" class=\"dataframe\">\n",
       "  <thead>\n",
       "    <tr style=\"text-align: right;\">\n",
       "      <th></th>\n",
       "      <th>real delivery days</th>\n",
       "      <th>TF</th>\n",
       "    </tr>\n",
       "    <tr>\n",
       "      <th>random forest prediction</th>\n",
       "      <th></th>\n",
       "      <th></th>\n",
       "    </tr>\n",
       "  </thead>\n",
       "  <tbody>\n",
       "    <tr>\n",
       "      <th>0</th>\n",
       "      <td>0.000000</td>\n",
       "      <td>1.000000</td>\n",
       "    </tr>\n",
       "    <tr>\n",
       "      <th>1</th>\n",
       "      <td>1.000000</td>\n",
       "      <td>1.000000</td>\n",
       "    </tr>\n",
       "    <tr>\n",
       "      <th>2</th>\n",
       "      <td>3.013391</td>\n",
       "      <td>0.593735</td>\n",
       "    </tr>\n",
       "    <tr>\n",
       "      <th>3</th>\n",
       "      <td>3.989366</td>\n",
       "      <td>0.216397</td>\n",
       "    </tr>\n",
       "    <tr>\n",
       "      <th>4</th>\n",
       "      <td>4.008096</td>\n",
       "      <td>0.213002</td>\n",
       "    </tr>\n",
       "    <tr>\n",
       "      <th>5</th>\n",
       "      <td>4.017413</td>\n",
       "      <td>0.210788</td>\n",
       "    </tr>\n",
       "    <tr>\n",
       "      <th>6</th>\n",
       "      <td>4.034989</td>\n",
       "      <td>0.214523</td>\n",
       "    </tr>\n",
       "  </tbody>\n",
       "</table>\n",
       "</div>"
      ],
      "text/plain": [
       "                          real delivery days        TF\n",
       "random forest prediction                              \n",
       "0                                   0.000000  1.000000\n",
       "1                                   1.000000  1.000000\n",
       "2                                   3.013391  0.593735\n",
       "3                                   3.989366  0.216397\n",
       "4                                   4.008096  0.213002\n",
       "5                                   4.017413  0.210788\n",
       "6                                   4.034989  0.214523"
      ]
     },
     "execution_count": 175,
     "metadata": {},
     "output_type": "execute_result"
    }
   ],
   "source": [
    "rfc_results_df['TF'] = (results_df['real delivery days']==results_df['random forest prediction'])\n",
    "rfc_results_df.groupby('random forest prediction').mean()"
   ]
  }
 ],
 "metadata": {
  "kernelspec": {
   "display_name": "Python 3 (ipykernel)",
   "language": "python",
   "name": "python3"
  },
  "language_info": {
   "codemirror_mode": {
    "name": "ipython",
    "version": 3
   },
   "file_extension": ".py",
   "mimetype": "text/x-python",
   "name": "python",
   "nbconvert_exporter": "python",
   "pygments_lexer": "ipython3",
   "version": "3.9.2"
  }
 },
 "nbformat": 4,
 "nbformat_minor": 5
}
