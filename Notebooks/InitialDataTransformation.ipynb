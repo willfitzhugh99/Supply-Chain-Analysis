{
 "cells": [
  {
   "cell_type": "code",
   "execution_count": 1,
   "id": "d981dcc3",
   "metadata": {},
   "outputs": [],
   "source": [
    "import pandas as pd"
   ]
  },
  {
   "cell_type": "code",
   "execution_count": 3,
   "id": "b1f27ecf",
   "metadata": {},
   "outputs": [],
   "source": [
    "data = pd.read_csv('/Users/willfitzhugh/Desktop/Coding/Supply-Chain-Analysis/Data/Raw/DataCoSupplyChainDataset.csv', encoding_errors='ignore')"
   ]
  },
  {
   "cell_type": "code",
   "execution_count": 4,
   "id": "c187a7e1",
   "metadata": {
    "scrolled": true
   },
   "outputs": [
    {
     "data": {
      "text/html": [
       "<div>\n",
       "<style scoped>\n",
       "    .dataframe tbody tr th:only-of-type {\n",
       "        vertical-align: middle;\n",
       "    }\n",
       "\n",
       "    .dataframe tbody tr th {\n",
       "        vertical-align: top;\n",
       "    }\n",
       "\n",
       "    .dataframe thead th {\n",
       "        text-align: right;\n",
       "    }\n",
       "</style>\n",
       "<table border=\"1\" class=\"dataframe\">\n",
       "  <thead>\n",
       "    <tr style=\"text-align: right;\">\n",
       "      <th></th>\n",
       "      <th>Type</th>\n",
       "      <th>Days for shipping (real)</th>\n",
       "      <th>Days for shipment (scheduled)</th>\n",
       "      <th>Benefit per order</th>\n",
       "      <th>Sales per customer</th>\n",
       "      <th>Delivery Status</th>\n",
       "      <th>Late_delivery_risk</th>\n",
       "      <th>Category Id</th>\n",
       "      <th>Category Name</th>\n",
       "      <th>Customer City</th>\n",
       "      <th>...</th>\n",
       "      <th>Order Zipcode</th>\n",
       "      <th>Product Card Id</th>\n",
       "      <th>Product Category Id</th>\n",
       "      <th>Product Description</th>\n",
       "      <th>Product Image</th>\n",
       "      <th>Product Name</th>\n",
       "      <th>Product Price</th>\n",
       "      <th>Product Status</th>\n",
       "      <th>shipping date (DateOrders)</th>\n",
       "      <th>Shipping Mode</th>\n",
       "    </tr>\n",
       "  </thead>\n",
       "  <tbody>\n",
       "    <tr>\n",
       "      <th>0</th>\n",
       "      <td>PAYMENT</td>\n",
       "      <td>5</td>\n",
       "      <td>2</td>\n",
       "      <td>-30.750000</td>\n",
       "      <td>115.180000</td>\n",
       "      <td>Late delivery</td>\n",
       "      <td>1</td>\n",
       "      <td>17</td>\n",
       "      <td>Cleats</td>\n",
       "      <td>Bayamon</td>\n",
       "      <td>...</td>\n",
       "      <td>NaN</td>\n",
       "      <td>365</td>\n",
       "      <td>17</td>\n",
       "      <td>NaN</td>\n",
       "      <td>http://images.acmesports.sports/Perfect+Fitnes...</td>\n",
       "      <td>Perfect Fitness Perfect Rip Deck</td>\n",
       "      <td>59.990002</td>\n",
       "      <td>0</td>\n",
       "      <td>2016-02-29 13:57:00</td>\n",
       "      <td>Second Class</td>\n",
       "    </tr>\n",
       "    <tr>\n",
       "      <th>1</th>\n",
       "      <td>PAYMENT</td>\n",
       "      <td>2</td>\n",
       "      <td>2</td>\n",
       "      <td>-122.730003</td>\n",
       "      <td>79.180000</td>\n",
       "      <td>Shipping on time</td>\n",
       "      <td>0</td>\n",
       "      <td>29</td>\n",
       "      <td>Shop By Sport</td>\n",
       "      <td>Caguas</td>\n",
       "      <td>...</td>\n",
       "      <td>NaN</td>\n",
       "      <td>627</td>\n",
       "      <td>29</td>\n",
       "      <td>NaN</td>\n",
       "      <td>http://images.acmesports.sports/Under+Armour+G...</td>\n",
       "      <td>Under Armour Girls' Toddler Spine Surge Runni</td>\n",
       "      <td>39.990002</td>\n",
       "      <td>0</td>\n",
       "      <td>2016-10-27 14:39:00</td>\n",
       "      <td>Second Class</td>\n",
       "    </tr>\n",
       "    <tr>\n",
       "      <th>2</th>\n",
       "      <td>PAYMENT</td>\n",
       "      <td>6</td>\n",
       "      <td>2</td>\n",
       "      <td>33.599998</td>\n",
       "      <td>96.000000</td>\n",
       "      <td>Late delivery</td>\n",
       "      <td>1</td>\n",
       "      <td>24</td>\n",
       "      <td>Women's Apparel</td>\n",
       "      <td>Caguas</td>\n",
       "      <td>...</td>\n",
       "      <td>NaN</td>\n",
       "      <td>502</td>\n",
       "      <td>24</td>\n",
       "      <td>NaN</td>\n",
       "      <td>http://images.acmesports.sports/Nike+Men%27s+D...</td>\n",
       "      <td>Nike Men's Dri-FIT Victory Golf Polo</td>\n",
       "      <td>50.000000</td>\n",
       "      <td>0</td>\n",
       "      <td>2016-04-05 04:37:00</td>\n",
       "      <td>Second Class</td>\n",
       "    </tr>\n",
       "    <tr>\n",
       "      <th>3</th>\n",
       "      <td>PAYMENT</td>\n",
       "      <td>2</td>\n",
       "      <td>2</td>\n",
       "      <td>24.690001</td>\n",
       "      <td>75.980003</td>\n",
       "      <td>Shipping on time</td>\n",
       "      <td>0</td>\n",
       "      <td>29</td>\n",
       "      <td>Shop By Sport</td>\n",
       "      <td>Caguas</td>\n",
       "      <td>...</td>\n",
       "      <td>NaN</td>\n",
       "      <td>627</td>\n",
       "      <td>29</td>\n",
       "      <td>NaN</td>\n",
       "      <td>http://images.acmesports.sports/Under+Armour+G...</td>\n",
       "      <td>Under Armour Girls' Toddler Spine Surge Runni</td>\n",
       "      <td>39.990002</td>\n",
       "      <td>0</td>\n",
       "      <td>2016-11-01 01:31:00</td>\n",
       "      <td>Second Class</td>\n",
       "    </tr>\n",
       "    <tr>\n",
       "      <th>4</th>\n",
       "      <td>PAYMENT</td>\n",
       "      <td>3</td>\n",
       "      <td>2</td>\n",
       "      <td>9.100000</td>\n",
       "      <td>91.000000</td>\n",
       "      <td>Late delivery</td>\n",
       "      <td>1</td>\n",
       "      <td>24</td>\n",
       "      <td>Women's Apparel</td>\n",
       "      <td>Caguas</td>\n",
       "      <td>...</td>\n",
       "      <td>NaN</td>\n",
       "      <td>502</td>\n",
       "      <td>24</td>\n",
       "      <td>NaN</td>\n",
       "      <td>http://images.acmesports.sports/Nike+Men%27s+D...</td>\n",
       "      <td>Nike Men's Dri-FIT Victory Golf Polo</td>\n",
       "      <td>50.000000</td>\n",
       "      <td>0</td>\n",
       "      <td>2016-12-01 01:18:00</td>\n",
       "      <td>Second Class</td>\n",
       "    </tr>\n",
       "  </tbody>\n",
       "</table>\n",
       "<p>5 rows × 53 columns</p>\n",
       "</div>"
      ],
      "text/plain": [
       "      Type  Days for shipping (real)  Days for shipment (scheduled)  \\\n",
       "0  PAYMENT                         5                              2   \n",
       "1  PAYMENT                         2                              2   \n",
       "2  PAYMENT                         6                              2   \n",
       "3  PAYMENT                         2                              2   \n",
       "4  PAYMENT                         3                              2   \n",
       "\n",
       "   Benefit per order  Sales per customer   Delivery Status  \\\n",
       "0         -30.750000          115.180000     Late delivery   \n",
       "1        -122.730003           79.180000  Shipping on time   \n",
       "2          33.599998           96.000000     Late delivery   \n",
       "3          24.690001           75.980003  Shipping on time   \n",
       "4           9.100000           91.000000     Late delivery   \n",
       "\n",
       "   Late_delivery_risk  Category Id    Category Name Customer City  ...  \\\n",
       "0                   1           17           Cleats       Bayamon  ...   \n",
       "1                   0           29    Shop By Sport        Caguas  ...   \n",
       "2                   1           24  Women's Apparel        Caguas  ...   \n",
       "3                   0           29    Shop By Sport        Caguas  ...   \n",
       "4                   1           24  Women's Apparel        Caguas  ...   \n",
       "\n",
       "  Order Zipcode Product Card Id Product Category Id  Product Description  \\\n",
       "0           NaN             365                  17                  NaN   \n",
       "1           NaN             627                  29                  NaN   \n",
       "2           NaN             502                  24                  NaN   \n",
       "3           NaN             627                  29                  NaN   \n",
       "4           NaN             502                  24                  NaN   \n",
       "\n",
       "                                       Product Image  \\\n",
       "0  http://images.acmesports.sports/Perfect+Fitnes...   \n",
       "1  http://images.acmesports.sports/Under+Armour+G...   \n",
       "2  http://images.acmesports.sports/Nike+Men%27s+D...   \n",
       "3  http://images.acmesports.sports/Under+Armour+G...   \n",
       "4  http://images.acmesports.sports/Nike+Men%27s+D...   \n",
       "\n",
       "                                    Product Name Product Price Product Status  \\\n",
       "0               Perfect Fitness Perfect Rip Deck     59.990002              0   \n",
       "1  Under Armour Girls' Toddler Spine Surge Runni     39.990002              0   \n",
       "2           Nike Men's Dri-FIT Victory Golf Polo     50.000000              0   \n",
       "3  Under Armour Girls' Toddler Spine Surge Runni     39.990002              0   \n",
       "4           Nike Men's Dri-FIT Victory Golf Polo     50.000000              0   \n",
       "\n",
       "  shipping date (DateOrders)  Shipping Mode  \n",
       "0        2016-02-29 13:57:00   Second Class  \n",
       "1        2016-10-27 14:39:00   Second Class  \n",
       "2        2016-04-05 04:37:00   Second Class  \n",
       "3        2016-11-01 01:31:00   Second Class  \n",
       "4        2016-12-01 01:18:00   Second Class  \n",
       "\n",
       "[5 rows x 53 columns]"
      ]
     },
     "execution_count": 4,
     "metadata": {},
     "output_type": "execute_result"
    }
   ],
   "source": [
    "data.head()"
   ]
  },
  {
   "cell_type": "code",
   "execution_count": 5,
   "id": "0d33d2b9",
   "metadata": {},
   "outputs": [],
   "source": [
    "#create single column for customer name\n",
    "data['CustomerName'] = data['Customer Fname'] + ' ' + data['Customer Lname'].fillna('')"
   ]
  },
  {
   "cell_type": "code",
   "execution_count": 6,
   "id": "89abfde8",
   "metadata": {},
   "outputs": [],
   "source": [
    "#useless columns to drop\n",
    "useless_cols = ['Product Description','Product Image','Customer Email','Customer Password','Customer Street',\n",
    "                'Customer Zipcode','Order Zipcode','Order Item Id','Department Id','Product Category Id',\n",
    "                'Product Card Id','Customer Fname','Customer Lname','Product Status']\n",
    "\n",
    "#duplicate columns to drop\n",
    "dup_cols = ['Order Profit Per Order','Order Item Total','Order Item Product Price','Sales','Order Customer Id',\n",
    "           'Order Item Cardprod Id','Category Id']\n",
    "    \n",
    "data = data.drop( columns = dup_cols + useless_cols )"
   ]
  },
  {
   "cell_type": "code",
   "execution_count": 7,
   "id": "12ed629d",
   "metadata": {},
   "outputs": [],
   "source": [
    "#rename poorly titled columns\n",
    "data = data.rename(columns = {'Benefit per order':'OrderProfit','Sales per customer':'OrderSales',\n",
    "                       'Category Name':'ProductCategory','Department Name':'ProductDepartment',\n",
    "                       'order date (DateOrders)':'OrderDate','shipping date (DateOrders)':'ShipDate',\n",
    "                       'ProductInStock':'Product Status','Days for shipping (real)':'RealShippingDays',\n",
    "                        'Days for shipment (scheduled)':'ScheduledShippingDays','Type':'PaymentType'})"
   ]
  },
  {
   "cell_type": "code",
   "execution_count": 14,
   "id": "a037a428",
   "metadata": {},
   "outputs": [
    {
     "data": {
      "text/plain": [
       "0         2016-02-24 13:57:00\n",
       "1         2016-10-25 14:39:00\n",
       "2         2016-03-30 04:37:00\n",
       "3         2016-10-30 01:31:00\n",
       "4         2016-11-28 01:18:00\n",
       "                 ...         \n",
       "173970    2016-01-16 03:40:00\n",
       "173971    2016-01-16 01:34:00\n",
       "173972    2016-01-15 21:00:00\n",
       "173973    2016-01-15 20:18:00\n",
       "173974    2016-01-15 18:54:00\n",
       "Name: OrderDate, Length: 173975, dtype: object"
      ]
     },
     "execution_count": 14,
     "metadata": {},
     "output_type": "execute_result"
    }
   ],
   "source": [
    "data.OrderDate"
   ]
  },
  {
   "cell_type": "code",
   "execution_count": 16,
   "id": "0b11cc22",
   "metadata": {
    "scrolled": true
   },
   "outputs": [],
   "source": [
    "#change date data types\n",
    "data.OrderDate = pd.to_datetime(data.OrderDate, format='%Y-%m-%d %H:%M:%S')\n",
    "data.ShipDate = pd.to_datetime(data.ShipDate, format='%Y-%m-%d %H:%M:%S')"
   ]
  },
  {
   "cell_type": "code",
   "execution_count": 17,
   "id": "d8e06642",
   "metadata": {},
   "outputs": [],
   "source": [
    "data.to_csv('/Users/willfitzhugh/Desktop/Coding/Supply-Chain-Analysis/Data/Interim/CleanedData.csv', index=False)"
   ]
  },
  {
   "cell_type": "markdown",
   "id": "05c5cac6",
   "metadata": {},
   "source": [
    "---"
   ]
  },
  {
   "cell_type": "markdown",
   "id": "4233aeab",
   "metadata": {},
   "source": [
    "---\n",
    "Sneaky Filter Date Range"
   ]
  },
  {
   "cell_type": "code",
   "execution_count": 67,
   "id": "d66a7bad",
   "metadata": {},
   "outputs": [],
   "source": [
    "data = pd.read_csv('/Users/willfitzhugh/Desktop/Coding/Supply-Chain-Analysis/Data/Raw/DataCoSupplyChainDataset.csv', encoding_errors='ignore')"
   ]
  },
  {
   "cell_type": "code",
   "execution_count": 54,
   "id": "1167cd91",
   "metadata": {},
   "outputs": [],
   "source": [
    "data['order date (DateOrders)'] = pd.to_datetime(data['order date (DateOrders)'], format='%m/%d/%Y %H:%M')\n",
    "data['shipping date (DateOrders)'] = pd.to_datetime(data['shipping date (DateOrders)'], format='%m/%d/%Y %H:%M')"
   ]
  },
  {
   "cell_type": "code",
   "execution_count": 56,
   "id": "89f771ee",
   "metadata": {},
   "outputs": [],
   "source": [
    "data = data[ (data['order date (DateOrders)'] < '2017-11-01') & (data['shipping date (DateOrders)'] < '2017-11-01') ]"
   ]
  },
  {
   "cell_type": "code",
   "execution_count": 59,
   "id": "ce120e06",
   "metadata": {},
   "outputs": [],
   "source": [
    "data.to_csv('/Users/willfitzhugh/Desktop/Coding/Supply-Chain-Analysis/Data/Raw/DataCoSupplyChainDataset.csv', index=False)"
   ]
  }
 ],
 "metadata": {
  "kernelspec": {
   "display_name": "Python 3 (ipykernel)",
   "language": "python",
   "name": "python3"
  },
  "language_info": {
   "codemirror_mode": {
    "name": "ipython",
    "version": 3
   },
   "file_extension": ".py",
   "mimetype": "text/x-python",
   "name": "python",
   "nbconvert_exporter": "python",
   "pygments_lexer": "ipython3",
   "version": "3.9.2"
  }
 },
 "nbformat": 4,
 "nbformat_minor": 5
}
