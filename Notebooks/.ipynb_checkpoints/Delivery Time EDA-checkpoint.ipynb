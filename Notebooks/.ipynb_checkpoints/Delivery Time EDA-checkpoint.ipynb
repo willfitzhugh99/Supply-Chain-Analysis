{
 "cells": [
  {
   "cell_type": "code",
   "execution_count": null,
   "id": "8d317b83",
   "metadata": {},
   "outputs": [],
   "source": [
    "data['late'] = data.RealShippingDays > data.ScheduledShippingDays\n",
    "((data['Late_delivery_risk'] > .5) != (data.late)).sum()"
   ]
  }
 ],
 "metadata": {
  "kernelspec": {
   "display_name": "Python 3 (ipykernel)",
   "language": "python",
   "name": "python3"
  },
  "language_info": {
   "codemirror_mode": {
    "name": "ipython",
    "version": 3
   },
   "file_extension": ".py",
   "mimetype": "text/x-python",
   "name": "python",
   "nbconvert_exporter": "python",
   "pygments_lexer": "ipython3",
   "version": "3.9.2"
  }
 },
 "nbformat": 4,
 "nbformat_minor": 5
}
